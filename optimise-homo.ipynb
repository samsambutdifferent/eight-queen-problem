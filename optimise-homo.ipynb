{
 "cells": [
  {
   "cell_type": "markdown",
   "metadata": {
    "collapsed": true,
    "pycharm": {
     "name": "#%% md\n"
    }
   },
   "source": [
    "### Reduce Homo\n",
    "\n",
    "Because the algorithim condenses on an optimal form it is possible for it to become trapped in a valley, with a non perfect homogenus population\n",
    "\n",
    "To counteract this need to add noise and reduce homogenity\n",
    "\n",
    "may also be possible to reduce this by changing the study interval and scale factor as referenced in the below paper. This can be coupled with a form of elitism in which the previous generations highest scored genotypes are passed into a new population\n",
    "\n",
    "An improvement of the standard genetic algorithm fighting premature.pdf\n",
    "- https://d1wqtxts1xzle7.cloudfront.net/66873909/s0965-9978_2800_2900070-320210504-27511-15fgwap-with-cover-page-v2.pdf?Expires=1642252007&Signature=TYuG0TiTElnnPjU3vWnQU2djgqkyYYvH8rJAbngjfG5-KqQiv6rRunk-4HW-CRNPSblO19DbB77kaEdJDrgTuRWQh~HRiVUYm4UVmMTCthI87eUBkPrKHTYjJFvix71Q~i1o4A0AAKBNZaxCHE4HJKUs6v2uHuA3W-Y2vD9ADhn4Af4Mtqb0qSAlrTS6XmnqeVLeio0RFqcgLdQExVHjBs4m5OyyEtiwi1TipyQbd~lkF67apzA6FnEAeaf1FmU6PrqMZX5wYkZbiFM6dsBXRYQpZe36Bb5xB4pkmauXHqyhtFnrBYP6-HA3nOERhsAHMtByzvn9hzZOoEYZK4GIDg__&Key-Pair-Id=APKAJLOHF5GGSLRBV4ZA"
   ]
  },
  {
   "cell_type": "code",
   "execution_count": 41,
   "metadata": {},
   "outputs": [],
   "source": [
    "from BasicGaAlgorithim import (\n",
    "                                generate_population,\n",
    "                                fitness_function,\n",
    "                                selection,\n",
    "                                crossover,\n",
    "                                mutation,\n",
    "                                check_for_perfect_genotype,\n",
    "                                calculate_perfect_score\n",
    "                            )"
   ]
  },
  {
   "cell_type": "code",
   "execution_count": 42,
   "metadata": {},
   "outputs": [],
   "source": [
    "from OptimiseGaAlgorithim import (\n",
    "                                elitism,\n",
    "                                remove_parent_pairs\n",
    ")"
   ]
  },
  {
   "cell_type": "markdown",
   "metadata": {},
   "source": [
    "generation"
   ]
  },
  {
   "cell_type": "code",
   "execution_count": 61,
   "metadata": {
    "collapsed": false,
    "pycharm": {
     "name": "#%%\n"
    }
   },
   "outputs": [
    {
     "data": {
      "text/plain": [
       "([[0, 0, 1], [1, 2, 0], [1, 2, 0]], [2.0, 1.0, 2.0])"
      ]
     },
     "execution_count": 61,
     "metadata": {},
     "output_type": "execute_result"
    }
   ],
   "source": [
    "def generation(population, size_of_population, number_of_queens, mutation_frequency, elitism_ratio):\n",
    "    # b) fitness function\n",
    "    fit_scores = [fitness_function(genotype) for genotype in population]\n",
    "\n",
    "    # c) selection\n",
    "    selected_pairs = selection(population, fit_scores, size_of_population)\n",
    "    # make room for elites\n",
    "    remove_selected_pairs = remove_parent_pairs(selected_pairs, elitism_ratio, size_of_population)\n",
    "    \n",
    "    # d) cross over\n",
    "    children = crossover(remove_selected_pairs, number_of_queens)\n",
    "\n",
    "    ##ELITISM\n",
    "    elites = elitism(population, fit_scores, elitism_ratio, size_of_population)\n",
    "    elite_children = elites + children\n",
    "\n",
    "    fit_scores = [fitness_function(genotype) for genotype in elite_children]\n",
    "\n",
    "    # e) mutation\n",
    "    mutated = mutation(elite_children, mutation_frequency, number_of_queens)\n",
    "\n",
    "    return mutated, fit_scores\n",
    "\n",
    "# a) Initial Population\n",
    "population = generate_population(3, 3)\n",
    "generation(population, 3, 3, 2, 0.5)\n"
   ]
  },
  {
   "cell_type": "markdown",
   "metadata": {},
   "source": [
    "check for completion and calclate perfect score"
   ]
  },
  {
   "cell_type": "code",
   "execution_count": 62,
   "metadata": {},
   "outputs": [],
   "source": [
    "## reduce homogenity\n",
    "\n",
    "# def reduce_homogenity(population, number_of_queens, size_of_population):\n",
    "\n",
    "#     number_of_elite_genotypes = 5\n",
    "#     elite = _fetch_elite(population, number_of_elite_genotypes)\n",
    "\n",
    "#     new_population = generate_population(\n",
    "#                             number_of_queens,\n",
    "#                             size_of_population - number_of_elite_genotypes\n",
    "#                         )\n",
    "#     return new_population + elite\n",
    "\n",
    "\n",
    "# def _fetch_elite(population, number_of_elite_genotypes=5):\n",
    "#     fitness_socres = [(pop, fitness_function(pop)) for pop in population]\n",
    "#     sorted_by_score = sorted(fitness_socres, key=lambda x: x[1], reverse=True)\n",
    "#     sorted_by_score = sorted_by_score[:number_of_elite_genotypes]\n",
    "#     return [item[0] for item in sorted_by_score]\n",
    "\n",
    "\n",
    "# population = generate_population(3, 10)\n",
    "# reduce_homogenity(population, 3, 10)"
   ]
  },
  {
   "cell_type": "markdown",
   "metadata": {},
   "source": [
    "Full algorithim"
   ]
  },
  {
   "cell_type": "code",
   "execution_count": 66,
   "metadata": {
    "collapsed": false,
    "pycharm": {
     "name": "#%%\n"
    }
   },
   "outputs": [
    {
     "data": {
      "text/plain": [
       "{'elapsed_time': 4.361350399999992,\n",
       " 'number_of_generations': 339,\n",
       " 'completed_state': [6, 2, 7, 1, 4, 0, 5, 3]}"
      ]
     },
     "execution_count": 66,
     "metadata": {},
     "output_type": "execute_result"
    }
   ],
   "source": [
    "import timeit\n",
    "\n",
    "NUMBER_OF_QUEENS=8\n",
    "SIZE_OF_POPULATION=25\n",
    "MUTATION_FREQUENCY = 8\n",
    "# TODO HOW IS THIS CALCULATED\n",
    "PERFECT_SCORE = calculate_perfect_score(NUMBER_OF_QUEENS)\n",
    "ELITISM_RATIO = 0.25\n",
    "\n",
    "def genetic_algorithm(population):\n",
    "\n",
    "    start_time = timeit.default_timer()\n",
    "\n",
    "    gen = 0\n",
    "    completed_genotype = []\n",
    "\n",
    "    # # g) check if it has found correct state and exit loop\n",
    "    while not completed_genotype:\n",
    "        population, fitness_scores = generation(population, SIZE_OF_POPULATION, NUMBER_OF_QUEENS, MUTATION_FREQUENCY, ELITISM_RATIO)\n",
    "        completed_genotype = check_for_perfect_genotype(population, PERFECT_SCORE)\n",
    "        gen += 1\n",
    "\n",
    "        if gen == 100000:\n",
    "            break\n",
    "\n",
    "    stop_time = timeit.default_timer()\n",
    "\n",
    "    return {\n",
    "        \"elapsed_time\": stop_time - start_time,\n",
    "        \"number_of_generations\": gen,\n",
    "        \"completed_state\": completed_genotype\n",
    "    }\n",
    "\n",
    "# a) generate initial population\n",
    "population = generate_population(NUMBER_OF_QUEENS, SIZE_OF_POPULATION)\n",
    "\n",
    "ga_result = genetic_algorithm(population)\n",
    "\n",
    "ga_result"
   ]
  },
  {
   "cell_type": "code",
   "execution_count": null,
   "metadata": {},
   "outputs": [],
   "source": [
    "       # if gen % 50 == 0:\n",
    "        #     number_of_elites = math.floor(SIZE_OF_POPULATION * ELITISM_RATIO)\n",
    "        #     new_population = generate_population(NUMBER_OF_QUEENS, SIZE_OF_POPULATION - number_of_elites)\n",
    "        #     population = new_population + elites"
   ]
  }
 ],
 "metadata": {
  "kernelspec": {
   "display_name": "Python 3",
   "language": "python",
   "name": "python3"
  },
  "language_info": {
   "codemirror_mode": {
    "name": "ipython",
    "version": 3
   },
   "file_extension": ".py",
   "mimetype": "text/x-python",
   "name": "python",
   "nbconvert_exporter": "python",
   "pygments_lexer": "ipython3",
   "version": "3.9.5"
  }
 },
 "nbformat": 4,
 "nbformat_minor": 0
}
