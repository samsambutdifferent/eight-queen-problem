{
 "cells": [
  {
   "cell_type": "markdown",
   "metadata": {
    "collapsed": true,
    "pycharm": {
     "name": "#%% md\n"
    }
   },
   "source": [
    "### Reduce Homo\n",
    "\n",
    "Because the algorithim condenses on an optimal form it is possible for it to become trapped in a valley, with a non perfect homogenus population\n",
    "\n",
    "To counteract this need to add noise and reduce homogenity"
   ]
  },
  {
   "cell_type": "code",
   "execution_count": 35,
   "metadata": {},
   "outputs": [],
   "source": [
    "from BasicGaAlgorithim import (\n",
    "                                generate_population,\n",
    "                                fitness_function,\n",
    "                                selection,\n",
    "                                crossover,\n",
    "                                mutation,\n",
    "                                check_for_perfect_genotype,\n",
    "                                calculate_perfect_score\n",
    "                            )"
   ]
  },
  {
   "cell_type": "markdown",
   "metadata": {},
   "source": [
    "generation"
   ]
  },
  {
   "cell_type": "code",
   "execution_count": 36,
   "metadata": {
    "collapsed": false,
    "pycharm": {
     "name": "#%%\n"
    }
   },
   "outputs": [
    {
     "data": {
      "text/plain": [
       "([[1, 2, 2], [2, 0, 0], [2, 0, 2]], [0.0, 2.0, 0.0])"
      ]
     },
     "execution_count": 36,
     "metadata": {},
     "output_type": "execute_result"
    }
   ],
   "source": [
    "def generation(population, size_of_population, number_of_queens, mutation_frequency):\n",
    "    # b) fitness function\n",
    "    fit_scores = [fitness_function(genotype) for genotype in population]\n",
    "\n",
    "    # c) selection\n",
    "    selected_pairs = selection(population, fit_scores, size_of_population)\n",
    "    \n",
    "    # d) cross over\n",
    "    children = crossover(selected_pairs, number_of_queens)\n",
    "\n",
    "    # e) mutation\n",
    "    mutated = mutation(children, mutation_frequency, number_of_queens)\n",
    "\n",
    "    return mutated, fit_scores\n",
    "\n",
    "# a) Initial Population\n",
    "population = generate_population(3, 3)\n",
    "generation(population, 3, 3, 2)\n"
   ]
  },
  {
   "cell_type": "markdown",
   "metadata": {},
   "source": [
    "check for completion and calclate perfect score"
   ]
  },
  {
   "cell_type": "code",
   "execution_count": 37,
   "metadata": {},
   "outputs": [
    {
     "data": {
      "text/plain": [
       "[[1, 0, 0],\n",
       " [1, 2, 0],\n",
       " [0, 2, 0],\n",
       " [0, 1, 2],\n",
       " [1, 1, 1],\n",
       " [2, 0, 2],\n",
       " [2, 0, 0],\n",
       " [2, 2, 1],\n",
       " [1, 0, 0],\n",
       " [1, 2, 1]]"
      ]
     },
     "execution_count": 37,
     "metadata": {},
     "output_type": "execute_result"
    }
   ],
   "source": [
    "## reduce homogenity\n",
    "\n",
    "def reduce_homogenity(population, number_of_queens, size_of_population):\n",
    "\n",
    "    number_of_elite_genotypes = 5\n",
    "    elite = _fetch_elite(population, number_of_elite_genotypes)\n",
    "\n",
    "    new_population = generate_population(\n",
    "                            number_of_queens,\n",
    "                            size_of_population - number_of_elite_genotypes\n",
    "                        )\n",
    "    return new_population + elite\n",
    "\n",
    "\n",
    "def _fetch_elite(population, number_of_elite_genotypes=5):\n",
    "    fitness_socres = [(pop, fitness_function(pop)) for pop in population]\n",
    "    sorted_by_score = sorted(fitness_socres, key=lambda x: x[1], reverse=True)\n",
    "    sorted_by_score = sorted_by_score[:number_of_elite_genotypes]\n",
    "    return [item[0] for item in sorted_by_score]\n",
    "\n",
    "\n",
    "population = generate_population(3, 10)\n",
    "reduce_homogenity(population, 3, 10)"
   ]
  },
  {
   "cell_type": "markdown",
   "metadata": {},
   "source": [
    "Full algorithim"
   ]
  },
  {
   "cell_type": "code",
   "execution_count": 38,
   "metadata": {
    "collapsed": false,
    "pycharm": {
     "name": "#%%\n"
    }
   },
   "outputs": [
    {
     "name": "stdout",
     "output_type": "stream",
     "text": [
      "generated new population\n",
      "elapsed_time: 7.709522100001777\n",
      "number_of_generations: 5192\n",
      "completed_state: [2, 4, 5, 0, 2, 3, 6, 6]\n",
      "=========================\n"
     ]
    },
    {
     "data": {
      "text/plain": [
       "{'elapsed_time': 7.709522100001777,\n",
       " 'number_of_generations': 5192,\n",
       " 'completed_state': [2, 4, 5, 0, 2, 3, 6, 6]}"
      ]
     },
     "execution_count": 38,
     "metadata": {},
     "output_type": "execute_result"
    }
   ],
   "source": [
    "import timeit\n",
    "\n",
    "NUMBER_OF_QUEENS=8\n",
    "SIZE_OF_POPULATION=25\n",
    "MUTATION_FREQUENCY = 8\n",
    "# TODO HOW IS THIS CALCULATED\n",
    "PERFECT_SCORE = calculate_perfect_score(NUMBER_OF_QUEENS)\n",
    "\n",
    "\n",
    "def genetic_algorithm(population):\n",
    "\n",
    "    start_time = timeit.default_timer()\n",
    "\n",
    "    gen = 0\n",
    "    completed_genotype = []\n",
    "\n",
    "    # # g) check if it has found correct state and exit loop\n",
    "    while not completed_genotype:\n",
    "        population, fitness_scores = generation(population, SIZE_OF_POPULATION, NUMBER_OF_QUEENS, MUTATION_FREQUENCY)\n",
    "        completed_genotype = check_for_perfect_genotype(population, fitness_scores, PERFECT_SCORE)\n",
    "        gen += 1\n",
    "\n",
    "        if gen % 3000 == 0:\n",
    "            print(\"generated new population\")\n",
    "            population = reduce_homogenity(population,NUMBER_OF_QUEENS, SIZE_OF_POPULATION)\n",
    "        if gen == 100000:\n",
    "            break\n",
    "        # if gen % 1000 == 0:\n",
    "        #     print(f\"run for {gen} generations\")\n",
    "\n",
    "    stop_time = timeit.default_timer()\n",
    "\n",
    "    print(f\"elapsed_time: {stop_time - start_time}\")\n",
    "    print(f\"number_of_generations: {gen}\")\n",
    "    print(f\"completed_state: {completed_genotype}\")\n",
    "    print(\"=========================\")\n",
    "\n",
    "    return {\n",
    "        \"elapsed_time\": stop_time - start_time,\n",
    "        \"number_of_generations\": gen,\n",
    "        \"completed_state\": completed_genotype\n",
    "    }\n",
    "\n",
    "# a) generate initial population\n",
    "population = generate_population(NUMBER_OF_QUEENS, SIZE_OF_POPULATION)\n",
    "\n",
    "ga_result = genetic_algorithm(population)\n",
    "\n",
    "ga_result"
   ]
  },
  {
   "cell_type": "code",
   "execution_count": null,
   "metadata": {},
   "outputs": [],
   "source": []
  }
 ],
 "metadata": {
  "kernelspec": {
   "display_name": "Python 3",
   "language": "python",
   "name": "python3"
  },
  "language_info": {
   "codemirror_mode": {
    "name": "ipython",
    "version": 3
   },
   "file_extension": ".py",
   "mimetype": "text/x-python",
   "name": "python",
   "nbconvert_exporter": "python",
   "pygments_lexer": "ipython3",
   "version": "3.9.5"
  }
 },
 "nbformat": 4,
 "nbformat_minor": 0
}
