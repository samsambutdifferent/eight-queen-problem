{
 "cells": [
  {
   "cell_type": "markdown",
   "metadata": {},
   "source": [
    "### Optimised Algorithim\n"
   ]
  },
  {
   "cell_type": "code",
   "execution_count": null,
   "metadata": {},
   "outputs": [],
   "source": [
    "from BasicGaAlgorithim import (\n",
    "                                generate_population,\n",
    "                                fitness_function,\n",
    "                                selection,\n",
    "                                mutation,\n",
    "                                check_for_perfect_genotype,\n",
    "                                calculate_perfect_score\n",
    "                            )\n",
    "\n",
    "from OptimiseGaAlgorithim import (\n",
    "                                crossover\n",
    ")"
   ]
  }
 ],
 "metadata": {
  "language_info": {
   "name": "python"
  },
  "orig_nbformat": 4
 },
 "nbformat": 4,
 "nbformat_minor": 2
}
