{
 "cells": [
  {
   "cell_type": "markdown",
   "metadata": {},
   "source": [
    "###\tselection optimisation:\n",
    "\n",
    " roulette selection is used in basic implementation - proportional selection of parents based on fitness score\n",
    "\n",
    " however better results can be seen from tournament selection\n",
    "\n",
    "tournament selection:\n",
    "- choose a few individuals at random\n",
    "- only the fittest one becomes a parent\n",
    "\n",
    "\n",
    "Elitism:\n",
    "-  preseve highest results from the past generation\n",
    "\n",
    "\n",
    "\n",
    " reference:\n",
    "\n",
    " - http://citeseerx.ist.psu.edu/viewdoc/summary?doi=10.1.1.140.3747\n",
    "\n",
    " documentation:\n",
    "\n",
    " - https://brandinho.github.io/genetic-algorithm/\n",
    "\n",
    " - https://stackoverflow.com/questions/23183862/what-is-the-difference-between-roulette-wheel-selection-rank-selection-and-tour\n",
    "\n"
   ]
  },
  {
   "cell_type": "code",
   "execution_count": 20,
   "metadata": {},
   "outputs": [],
   "source": [
    "from BasicGaAlgorithim import (\n",
    "                                generate_population,\n",
    "                                fitness_function,\n",
    "                                selection,\n",
    "                                # crossover,\n",
    "                                mutation,\n",
    "                                check_for_perfect_genotype,\n",
    "                                calculate_perfect_score\n",
    "                            )"
   ]
  },
  {
   "cell_type": "code",
   "execution_count": 12,
   "metadata": {
    "collapsed": false,
    "pycharm": {
     "name": "#%%\n"
    }
   },
   "outputs": [
    {
     "name": "stdout",
     "output_type": "stream",
     "text": [
      "initial populations:\n",
      "[[1, 1, 0], [0, 0, 0], [0, 0, 0], [2, 2, 1], [0, 0, 2], [0, 1, 2]]\n",
      "fitness scores:\n",
      "[1.0, 0.0, 0.0, 1.0, 1.0, 0.0]\n"
     ]
    },
    {
     "data": {
      "text/plain": [
       "[([2, 2, 1], [0, 0, 0]),\n",
       " ([1, 1, 0], [0, 0, 2]),\n",
       " ([0, 0, 2], [1, 1, 0]),\n",
       " ([0, 0, 2], [1, 1, 0]),\n",
       " ([2, 2, 1], [0, 0, 0])]"
      ]
     },
     "execution_count": 12,
     "metadata": {},
     "output_type": "execute_result"
    }
   ],
   "source": [
    "import random\n",
    "\n",
    "def selection(population, size_of_population, number_of_tournaments):\n",
    "    \"\"\"return a list of selected pairs\"\"\"\n",
    "\n",
    "    selected = []\n",
    "\n",
    "    tounment_populations = _create_tournament_populations(population, size_of_population, number_of_tournaments)\n",
    "\n",
    "    for tournament_pop in tounment_populations:\n",
    "        selected.append(_tournament_selection(tournament_pop))\n",
    "\n",
    "    return selected\n",
    "\n",
    "\n",
    "def _create_tournament_populations(population, size_of_population, number_of_tournaments):\n",
    "\n",
    "    # todo::: not using this number_of_tournaments\n",
    "\n",
    "    tounment_populations = []\n",
    "    number_of_tournaments = size_of_population - 1\n",
    "    tournment_size = 3\n",
    "\n",
    "    for _ in range(number_of_tournaments):\n",
    "        tounment_populations.append(random.sample(population, tournment_size))\n",
    "\n",
    "    return tounment_populations\n",
    "\n",
    "\n",
    "def _tournament_selection(tournament_population):\n",
    "    fitness_socres = [(pop, fitness_function(pop)) for pop in tournament_population]\n",
    "    sorted_by_score = sorted(fitness_socres, key=lambda x: x[1], reverse=True)\n",
    "\n",
    "    return sorted_by_score[0][0], sorted_by_score[1][0]\n",
    "\n",
    "\n",
    "population = generate_population(3, 6)\n",
    "fitness_scores = [fitness_function(genotype) for genotype in population]\n",
    "print(\"initial populations:\")\n",
    "print(population)\n",
    "print(\"fitness scores:\")\n",
    "print(fitness_scores)\n",
    "selection(population, 6, 2)\n",
    "\n",
    "selection(population=population,size_of_population=6,number_of_tournaments=3)"
   ]
  },
  {
   "cell_type": "markdown",
   "metadata": {},
   "source": [
    "d)\tCrossover"
   ]
  },
  {
   "cell_type": "markdown",
   "metadata": {},
   "source": [
    "elitism:\n",
    "\n",
    "preseve the highest fitness individuals from the previous population"
   ]
  },
  {
   "cell_type": "code",
   "execution_count": 15,
   "metadata": {},
   "outputs": [
    {
     "data": {
      "text/plain": [
       "[[1, 2, 0]]"
      ]
     },
     "execution_count": 15,
     "metadata": {},
     "output_type": "execute_result"
    }
   ],
   "source": [
    "def elitism(orignal_population, tournament_offspring):\n",
    "    \n",
    "    number_of_elites = len(orignal_population) - len(tournament_offspring)\n",
    "\n",
    "    fitness_scores = [(pop, fitness_function(pop)) for pop in orignal_population]\n",
    "    sorted_by_score = sorted(fitness_scores, key=lambda x: x[1], reverse=True)\n",
    "    \n",
    "    return [sorted_by_score[i][0] for i in range(number_of_elites)]\n",
    "\n",
    "\n",
    "population = generate_population(3, 6)\n",
    "fitness_scores = [fitness_function(genotype) for genotype in population]\n",
    "selection(population, 6, 2)\n",
    "\n",
    "selected_parents = selection(population=population,size_of_population=6,number_of_tournaments=3)\n",
    "tournament_offspring = crossover(selected_parents, 3)\n",
    "\n",
    "elitism(population, tournament_offspring)\n"
   ]
  },
  {
   "cell_type": "markdown",
   "metadata": {},
   "source": [
    "generation"
   ]
  },
  {
   "cell_type": "code",
   "execution_count": 17,
   "metadata": {
    "collapsed": false,
    "pycharm": {
     "name": "#%%\n"
    }
   },
   "outputs": [
    {
     "data": {
      "text/plain": [
       "[[1, 0, 2], [1, 0, 2], [1, 0, 0]]"
      ]
     },
     "execution_count": 17,
     "metadata": {},
     "output_type": "execute_result"
    }
   ],
   "source": [
    "def generation(population, size_of_population, number_of_queens, mutation_frequency):\n",
    "    # # b) fitness function\n",
    "    # fit_scores = [fitness_function(genotype) for genotype in population]\n",
    "\n",
    "    # c) selection\n",
    "    # TODO not setting number of tournaments\n",
    "    selected_pairs = selection(population, size_of_population, number_of_tournaments=2)\n",
    "    \n",
    "    # d) cross over\n",
    "    tournament_offspring = crossover(selected_pairs, number_of_queens)\n",
    "    \n",
    "    # elitism\n",
    "    elite_offspring = elitism(population, tournament_offspring)\n",
    "\n",
    "    # offspring\n",
    "    offspring = tournament_offspring + elite_offspring\n",
    "\n",
    "    # e) mutation\n",
    "    mutated = mutation(offspring, mutation_frequency, number_of_queens)\n",
    "\n",
    "    return mutated\n",
    "\n",
    "# a) Initial Population\n",
    "population = generate_population(3, 3)\n",
    "generation(population, 3, 3, 2)\n"
   ]
  },
  {
   "cell_type": "markdown",
   "metadata": {},
   "source": [
    "check for completion and calclate perfect score"
   ]
  },
  {
   "cell_type": "code",
   "execution_count": null,
   "metadata": {},
   "outputs": [],
   "source": []
  }
 ],
 "metadata": {
  "kernelspec": {
   "display_name": "Python 3",
   "language": "python",
   "name": "python3"
  },
  "language_info": {
   "codemirror_mode": {
    "name": "ipython",
    "version": 3
   },
   "file_extension": ".py",
   "mimetype": "text/x-python",
   "name": "python",
   "nbconvert_exporter": "python",
   "pygments_lexer": "ipython3",
   "version": "3.9.5"
  }
 },
 "nbformat": 4,
 "nbformat_minor": 0
}
