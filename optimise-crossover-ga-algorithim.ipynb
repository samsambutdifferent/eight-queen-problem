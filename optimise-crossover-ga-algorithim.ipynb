{
 "cells": [
  {
   "cell_type": "markdown",
   "metadata": {},
   "source": [
    "### Crossover\n",
    "\n",
    "basic algorthim utilises single point cross over, but a more complex method of optimisation may result in better results - such as two point mutation\n",
    "\n",
    "\n",
    "documentation:\n",
    "- https://brandinho.github.io/genetic-algorithm/\n",
    "\n",
    "reference:\n",
    "- https://d1wqtxts1xzle7.cloudfront.net/66873909/s0965-9978_2800_2900070-320210504-27511-15fgwap-with-cover-page-v2.pdf?Expires=1642252007&Signature=TYuG0TiTElnnPjU3vWnQU2djgqkyYYvH8rJAbngjfG5-KqQiv6rRunk-4HW-CRNPSblO19DbB77kaEdJDrgTuRWQh~HRiVUYm4UVmMTCthI87eUBkPrKHTYjJFvix71Q~i1o4A0AAKBNZaxCHE4HJKUs6v2uHuA3W-Y2vD9ADhn4Af4Mtqb0qSAlrTS6XmnqeVLeio0RFqcgLdQExVHjBs4m5OyyEtiwi1TipyQbd~lkF67apzA6FnEAeaf1FmU6PrqMZX5wYkZbiFM6dsBXRYQpZe36Bb5xB4pkmauXHqyhtFnrBYP6-HA3nOERhsAHMtByzvn9hzZOoEYZK4GIDg__&Key-Pair-Id=APKAJLOHF5GGSLRBV4ZA\n"
   ]
  },
  {
   "cell_type": "code",
   "execution_count": 1,
   "metadata": {},
   "outputs": [],
   "source": [
    "from BasicGaAlgorithim import (\n",
    "                                generate_population,\n",
    "                                fitness_function,\n",
    "                                selection,\n",
    "                                # crossover,\n",
    "                                mutation,\n",
    "                                check_for_perfect_genotype,\n",
    "                                calculate_perfect_score\n",
    "                            )\n"
   ]
  },
  {
   "cell_type": "code",
   "execution_count": 5,
   "metadata": {
    "collapsed": false,
    "pycharm": {
     "name": "#%%\n"
    }
   },
   "outputs": [
    {
     "name": "stdout",
     "output_type": "stream",
     "text": [
      "selected parents\n",
      "[([2, 0, 2], [1, 1, 1]), ([2, 0, 2], [1, 1, 1]), ([2, 0, 2], [1, 1, 1])]\n",
      "offspring\n"
     ]
    },
    {
     "data": {
      "text/plain": [
       "[[1, 1, 2], [1, 1, 2], [2, 0, 2]]"
      ]
     },
     "execution_count": 5,
     "metadata": {},
     "output_type": "execute_result"
    }
   ],
   "source": [
    "import random\n",
    "\n",
    "def crossover(selected_pairs, number_of_queens):\n",
    "\n",
    "    offspring = []\n",
    "    for s_p in selected_pairs:\n",
    "        # generate random cross over points - 0 - max number of queens\n",
    "        cross_over_index = random.randint(0, number_of_queens - 1)\n",
    "        parent_one = s_p[0]\n",
    "        parent_two = s_p[1]   \n",
    "\n",
    "        child = _crssover(parent_one, parent_two)\n",
    "        offspring.append(child)\n",
    "\n",
    "    return offspring\n",
    "\n",
    "\n",
    "def _crssover(parent_one, parent_two):\n",
    "    \n",
    "    child = []\n",
    "    for i in range(len(parent_one)):\n",
    "        rand = random.randint(1,2)\n",
    "        child.append(parent_one[i] if rand == 1 else parent_two[i])\n",
    "    \n",
    "    return child\n",
    "\n",
    "\n",
    "population = generate_population(3, 3)\n",
    "fitness_scores = [fitness_function(genotype) for genotype in population]\n",
    "selected_parents = selection(population, fitness_scores, 3)\n",
    "\n",
    "print(\"selected parents\")\n",
    "print(selected_parents)\n",
    "print(\"offspring\")\n",
    "\n",
    "crossover(selected_parents, 3)"
   ]
  },
  {
   "cell_type": "code",
   "execution_count": 6,
   "metadata": {},
   "outputs": [
    {
     "data": {
      "text/plain": [
       "([[1, 1, 0], [1, 0, 0], [1, 1, 0]], [1.0, 0.0, 1.0])"
      ]
     },
     "execution_count": 6,
     "metadata": {},
     "output_type": "execute_result"
    }
   ],
   "source": [
    "def generation(population, size_of_population, number_of_queens, mutation_frequency):\n",
    "    # b) fitness function\n",
    "    fit_scores = [fitness_function(genotype) for genotype in population]\n",
    "\n",
    "    # c) selection\n",
    "    selected_pairs = selection(population, fit_scores, size_of_population)\n",
    "    \n",
    "    # d) cross over\n",
    "    children = crossover(selected_pairs, number_of_queens)\n",
    "\n",
    "    # e) mutation\n",
    "    mutated = mutation(children, mutation_frequency, number_of_queens)\n",
    "\n",
    "    return mutated, fit_scores\n",
    "\n",
    "# a) Initial Population\n",
    "population = generate_population(3, 3)\n",
    "generation(population, 3, 3, 2)\n"
   ]
  },
  {
   "cell_type": "code",
   "execution_count": 12,
   "metadata": {},
   "outputs": [
    {
     "data": {
      "text/plain": [
       "{'elapsed_time': 4.053621999999905,\n",
       " 'number_of_generations': 2228,\n",
       " 'completed_state': [5, 1, 3, 0, 6, 5, 6, 7]}"
      ]
     },
     "execution_count": 12,
     "metadata": {},
     "output_type": "execute_result"
    }
   ],
   "source": [
    "import timeit\n",
    "\n",
    "NUMBER_OF_QUEENS=8\n",
    "SIZE_OF_POPULATION=25\n",
    "MUTATION_FREQUENCY = 8\n",
    "# TODO HOW IS THIS CALCULATED\n",
    "PERFECT_SCORE = calculate_perfect_score(NUMBER_OF_QUEENS)\n",
    "\n",
    "\n",
    "def genetic_algorithm(population):\n",
    "\n",
    "    start_time = timeit.default_timer()\n",
    "\n",
    "    gen = 0\n",
    "    completed_genotype = []\n",
    "\n",
    "    # # g) check if it has found correct state and exit loop\n",
    "    while not completed_genotype:\n",
    "        population, fitness_scores = generation(population, SIZE_OF_POPULATION, NUMBER_OF_QUEENS, MUTATION_FREQUENCY)\n",
    "        completed_genotype = check_for_perfect_genotype(population, fitness_scores, PERFECT_SCORE)\n",
    "        gen += 1\n",
    "\n",
    "        if gen == 100000:\n",
    "            break\n",
    "\n",
    "    stop_time = timeit.default_timer()\n",
    "\n",
    "    return {\n",
    "        \"elapsed_time\": stop_time - start_time,\n",
    "        \"number_of_generations\": gen,\n",
    "        \"completed_state\": completed_genotype\n",
    "    }\n",
    "\n",
    "# a) generate initial population\n",
    "population = generate_population(NUMBER_OF_QUEENS, SIZE_OF_POPULATION)\n",
    "\n",
    "ga_result = genetic_algorithm(population)\n",
    "\n",
    "ga_result"
   ]
  },
  {
   "cell_type": "code",
   "execution_count": null,
   "metadata": {},
   "outputs": [],
   "source": []
  }
 ],
 "metadata": {
  "kernelspec": {
   "display_name": "Python 3",
   "language": "python",
   "name": "python3"
  },
  "language_info": {
   "codemirror_mode": {
    "name": "ipython",
    "version": 3
   },
   "file_extension": ".py",
   "mimetype": "text/x-python",
   "name": "python",
   "nbconvert_exporter": "python",
   "pygments_lexer": "ipython3",
   "version": "3.9.5"
  }
 },
 "nbformat": 4,
 "nbformat_minor": 0
}
