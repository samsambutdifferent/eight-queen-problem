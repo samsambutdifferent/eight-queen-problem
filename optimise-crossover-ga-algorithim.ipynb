{
 "cells": [
  {
   "cell_type": "markdown",
   "metadata": {},
   "source": [
    "d)\tCrossover"
   ]
  },
  {
   "cell_type": "code",
   "execution_count": 13,
   "metadata": {
    "collapsed": false,
    "pycharm": {
     "name": "#%%\n"
    }
   },
   "outputs": [
    {
     "name": "stdout",
     "output_type": "stream",
     "text": [
      "selected parents\n",
      "[([0, 2, 1], [0, 2, 1]), ([0, 2, 1], [0, 2, 1]), ([0, 2, 1], [0, 2, 1])]\n",
      "offspring\n"
     ]
    },
    {
     "data": {
      "text/plain": [
       "[[0, 2, 1], [0, 2, 1], [0, 2, 1]]"
      ]
     },
     "execution_count": 13,
     "metadata": {},
     "output_type": "execute_result"
    }
   ],
   "source": [
    "\n",
    "def crossover(selected_pairs, number_of_queens):\n",
    "\n",
    "    offspring = []\n",
    "    for s_p in selected_pairs:\n",
    "        # generate random cross over points - 0 - max number of queens\n",
    "        cross_over_index = random.randint(0, number_of_queens - 1)\n",
    "        parent_one = s_p[0]\n",
    "        parent_two = s_p[1]   \n",
    "\n",
    "        child = _crssover(parent_one, parent_two, cross_over_index)\n",
    "        offspring.append(child)\n",
    "\n",
    "    return offspring\n",
    "\n",
    "\n",
    "\n",
    "def _crssover(parent_one, parent_two, cross_over_index):\n",
    "    return parent_one[:cross_over_index] + parent_two[cross_over_index:]\n",
    "\n",
    "\n",
    "# def _crssover(parent_one, parent_two):\n",
    "    \n",
    "#     child = []\n",
    "#     for i in range(len(parent_one)):\n",
    "#         rand = random.randint(1,2)\n",
    "#         child.append(parent_one[i] if rand == 1 else parent_two[i])\n",
    "    \n",
    "#     return child\n",
    "\n",
    "\n",
    "population = generate_population(3, 3)\n",
    "fitness_scores = [fitness_function(genotype) for genotype in population]\n",
    "selected_parents = selection(population, fitness_scores, 3)\n",
    "\n",
    "print(\"selected parents\")\n",
    "print(selected_parents)\n",
    "print(\"offspring\")\n",
    "\n",
    "crossover(selected_parents, 3)"
   ]
  },
  {
   "cell_type": "code",
   "execution_count": null,
   "metadata": {},
   "outputs": [],
   "source": []
  }
 ],
 "metadata": {
  "kernelspec": {
   "display_name": "Python 3",
   "language": "python",
   "name": "python3"
  },
  "language_info": {
   "codemirror_mode": {
    "name": "ipython",
    "version": 3
   },
   "file_extension": ".py",
   "mimetype": "text/x-python",
   "name": "python",
   "nbconvert_exporter": "python",
   "pygments_lexer": "ipython3",
   "version": "3.9.5"
  }
 },
 "nbformat": 4,
 "nbformat_minor": 0
}
