{
 "cells": [
  {
   "cell_type": "markdown",
   "metadata": {
    "collapsed": true,
    "pycharm": {
     "name": "#%% md\n"
    }
   },
   "source": [
    "# Eight Queens Genetic Algorithim"
   ]
  },
  {
   "cell_type": "markdown",
   "metadata": {},
   "source": [
    "a) Initial Population"
   ]
  },
  {
   "cell_type": "code",
   "execution_count": 25,
   "metadata": {
    "collapsed": false,
    "pycharm": {
     "name": "#%%\n"
    }
   },
   "outputs": [
    {
     "data": {
      "text/plain": [
       "[[2, 0, 0], [2, 1, 1], [1, 2, 0]]"
      ]
     },
     "execution_count": 25,
     "metadata": {},
     "output_type": "execute_result"
    }
   ],
   "source": [
    "import random\n",
    "\n",
    "def generate_population(number_of_queens=8, size_of_population=19):\n",
    "        return [_generate_genotype(number_of_queens) for _ in range(size_of_population)]\n",
    "\n",
    "\n",
    "def _generate_genotype(number_of_queens):\n",
    "    return  [random.randrange(number_of_queens) for num in range(number_of_queens )]\n",
    "\n",
    "\n",
    "generate_population(number_of_queens=3, size_of_population=3)"
   ]
  },
  {
   "cell_type": "markdown",
   "metadata": {},
   "source": [
    "b) fitness function"
   ]
  },
  {
   "cell_type": "code",
   "execution_count": 27,
   "metadata": {
    "collapsed": false,
    "pycharm": {
     "name": "#%%\n"
    }
   },
   "outputs": [],
   "source": [
    "def fitness_function(genotype):\n",
    "    \"\"\"finds a score based off the number of queens which are not being attacked\n",
    "    \"\"\"\n",
    "    fitness_score = 0\n",
    "\n",
    "    for i_p, gene in enumerate(genotype):\n",
    "        for i_o_p, other_gene in enumerate(genotype):\n",
    "            if gene == other_gene:\n",
    "                # is on the same row\n",
    "                continue\n",
    "            if i_p - gene == i_o_p - other_gene:\n",
    "                # is diagonally attacked\n",
    "                continue\n",
    "            if i_p + gene == i_o_p + other_gene:\n",
    "                # is diagonally attacked\n",
    "                continue\n",
    "            fitness_score += 1\n",
    "    \n",
    "    return fitness_score / 2\n",
    "\n",
    "\n",
    "assert fitness_function([7,1,4,2,0,6,3,5]) == 28\n",
    "assert fitness_function([7,2,4,2,0,6,3,2]) == 23\n",
    "assert fitness_function([1,1,1,1,0,6,3,2]) == 19\n",
    "assert fitness_function([1,1,1,1,1,1,1,1]) == 0\n",
    "assert fitness_function([1,2,3,4,5,6,7,8]) == 0\n"
   ]
  },
  {
   "cell_type": "markdown",
   "metadata": {},
   "source": [
    "c)\tselection:"
   ]
  },
  {
   "cell_type": "code",
   "execution_count": 13,
   "metadata": {
    "collapsed": false,
    "pycharm": {
     "name": "#%%\n"
    }
   },
   "outputs": [
    {
     "name": "stdout",
     "output_type": "stream",
     "text": [
      "initial populations:\n",
      "[[2, 1, 2], [2, 2, 0], [0, 0, 2], [1, 2, 0], [1, 2, 1]]\n",
      "fitness scores:\n",
      "[0.0, 1.0, 1.0, 2.0, 0.0]\n",
      "selected parents\n"
     ]
    },
    {
     "data": {
      "text/plain": [
       "[([2, 2, 0], [1, 2, 0]), ([1, 2, 0], [2, 2, 0]), ([2, 2, 0], [1, 2, 0])]"
      ]
     },
     "execution_count": 13,
     "metadata": {},
     "output_type": "execute_result"
    }
   ],
   "source": [
    "from BasicGaAlgorithim import selection\n",
    "\n",
    "\n",
    "population = generate_population(3, 5)\n",
    "fitness_scores = [fitness_function(genotype) for genotype in population]\n",
    "print(\"initial populations:\")\n",
    "print(population)\n",
    "print(\"fitness scores:\")\n",
    "print(fitness_scores)\n",
    "print(\"selected parents\")\n",
    "selection(population, fitness_scores, 3)\n"
   ]
  },
  {
   "cell_type": "markdown",
   "metadata": {},
   "source": [
    "d)\tCrossover"
   ]
  },
  {
   "cell_type": "code",
   "execution_count": 14,
   "metadata": {
    "collapsed": false,
    "pycharm": {
     "name": "#%%\n"
    }
   },
   "outputs": [
    {
     "name": "stdout",
     "output_type": "stream",
     "text": [
      "selected parents\n",
      "[([1, 0, 2], [1, 1, 1]), ([1, 0, 2], [1, 1, 1]), ([1, 0, 2], [1, 1, 1])]\n",
      "offspring\n"
     ]
    },
    {
     "data": {
      "text/plain": [
       "[[1, 1, 1], [1, 0, 1], [1, 0, 1]]"
      ]
     },
     "execution_count": 14,
     "metadata": {},
     "output_type": "execute_result"
    }
   ],
   "source": [
    "from BasicGaAlgorithim import crossover\n",
    "\n",
    "\n",
    "population = generate_population(3, 3)\n",
    "fitness_scores = [fitness_function(genotype) for genotype in population]\n",
    "selected_parents = selection(population, fitness_scores, 3)\n",
    "\n",
    "print(\"selected parents\")\n",
    "print(selected_parents)\n",
    "print(\"offspring\")\n",
    "\n",
    "crossover(selected_parents, 3)"
   ]
  },
  {
   "cell_type": "markdown",
   "metadata": {},
   "source": [
    "e)  mutation"
   ]
  },
  {
   "cell_type": "code",
   "execution_count": 15,
   "metadata": {},
   "outputs": [
    {
     "name": "stdout",
     "output_type": "stream",
     "text": [
      "offspring\n",
      "[[2, 1, 0], [2, 0, 0], [2, 1, 1]]\n",
      "mutated\n"
     ]
    },
    {
     "data": {
      "text/plain": [
       "[[2, 1, 2], [2, 1, 0], [1, 0, 0]]"
      ]
     },
     "execution_count": 15,
     "metadata": {},
     "output_type": "execute_result"
    }
   ],
   "source": [
    "from BasicGaAlgorithim import mutation\n",
    "\n",
    "\n",
    "population = generate_population(3, 3)\n",
    "fitness_scores = [fitness_function(genotype) for genotype in population]\n",
    "selected_parents = selection(population, fitness_scores, 3)\n",
    "offspring = crossover(selected_parents, 3)\n",
    "print(\"offspring\")\n",
    "print(offspring)\n",
    "print(\"mutated\")\n",
    "\n",
    "mutation(population, 2, 3)"
   ]
  },
  {
   "cell_type": "markdown",
   "metadata": {},
   "source": [
    "check for completion and calclate perfect score"
   ]
  },
  {
   "cell_type": "code",
   "execution_count": 16,
   "metadata": {},
   "outputs": [
    {
     "name": "stdout",
     "output_type": "stream",
     "text": [
      "28.0\n"
     ]
    }
   ],
   "source": [
    "from BasicGaAlgorithim import check_for_perfect_genotype, calculate_perfect_score\n",
    "\n",
    "# print(check_for_perfect_genotype([7,1,4,2,0,6,3,5]))\n",
    "print(calculate_perfect_score(8))"
   ]
  },
  {
   "cell_type": "markdown",
   "metadata": {},
   "source": [
    "generation"
   ]
  },
  {
   "cell_type": "code",
   "execution_count": 17,
   "metadata": {
    "collapsed": false,
    "pycharm": {
     "name": "#%%\n"
    }
   },
   "outputs": [
    {
     "data": {
      "text/plain": [
       "[[2, 0, 1], [2, 1, 1], [1, 0, 1]]"
      ]
     },
     "execution_count": 17,
     "metadata": {},
     "output_type": "execute_result"
    }
   ],
   "source": [
    "\n",
    "def generation(population, size_of_population, number_of_queens, mutation_frequency):\n",
    "    # b) fitness function\n",
    "    fit_scores = [fitness_function(genotype) for genotype in population]\n",
    "\n",
    "    # c) selection\n",
    "    selected_pairs = selection(population, fit_scores, size_of_population)\n",
    "    \n",
    "    # d) cross over\n",
    "    children = crossover(selected_pairs, number_of_queens)\n",
    "\n",
    "    # e) mutation\n",
    "    mutated = mutation(children, mutation_frequency, number_of_queens)\n",
    "\n",
    "    return mutated\n",
    "\n",
    "# a) Initial Population\n",
    "population = generate_population(3, 3)\n",
    "generation(population, 3, 3, 2)\n"
   ]
  },
  {
   "cell_type": "markdown",
   "metadata": {},
   "source": [
    "Full algorithim"
   ]
  },
  {
   "cell_type": "code",
   "execution_count": 22,
   "metadata": {
    "collapsed": false,
    "pycharm": {
     "name": "#%%\n"
    }
   },
   "outputs": [
    {
     "data": {
      "text/plain": [
       "{'elapsed_time': 6.5978342000000225,\n",
       " 'number_of_generations': 7078,\n",
       " 'completed_state': [0, 6, 4, 7, 1, 3, 5, 2]}"
      ]
     },
     "execution_count": 22,
     "metadata": {},
     "output_type": "execute_result"
    }
   ],
   "source": [
    "import timeit\n",
    "\n",
    "NUMBER_OF_QUEENS=8\n",
    "SIZE_OF_POPULATION=25\n",
    "MUTATION_FREQUENCY = 8\n",
    "# TODO HOW IS THIS CALCULATED\n",
    "PERFECT_SCORE = calculate_perfect_score(NUMBER_OF_QUEENS)\n",
    "\n",
    "\n",
    "def genetic_algorithm(population):\n",
    "\n",
    "    start_time = timeit.default_timer()\n",
    "\n",
    "    gen = 0\n",
    "    completed_genotype = []\n",
    "\n",
    "    # # g) check if it has found correct state and exit loop\n",
    "    while not completed_genotype:\n",
    "        population = generation(population, SIZE_OF_POPULATION, NUMBER_OF_QUEENS, MUTATION_FREQUENCY)\n",
    "        completed_genotype = check_for_perfect_genotype(population, PERFECT_SCORE)\n",
    "        gen += 1\n",
    "        if gen == 100000:\n",
    "            break\n",
    "\n",
    "    stop_time = timeit.default_timer()\n",
    "\n",
    "    return {\n",
    "        \"elapsed_time\": stop_time - start_time,\n",
    "        \"number_of_generations\": gen,\n",
    "        \"completed_state\": completed_genotype\n",
    "    }\n",
    "\n",
    "# a) generate initial population\n",
    "population = generate_population(NUMBER_OF_QUEENS, SIZE_OF_POPULATION)\n",
    "\n",
    "ga_result = genetic_algorithm(population)\n",
    "\n",
    "ga_result"
   ]
  },
  {
   "cell_type": "code",
   "execution_count": 9,
   "metadata": {},
   "outputs": [],
   "source": [
    "# # generate test population\n",
    "# # only need to do this once\n",
    "\n",
    "# import pickle\n",
    "\n",
    "\n",
    "# # generate test populations\n",
    "\n",
    "# test_population = []\n",
    "\n",
    "# for i in range(100):\n",
    "#         test_population.append( generate_population(NUMBER_OF_QUEENS, SIZE_OF_POPULATION))\n",
    "\n",
    "# with open(test_populations_name, 'wb') as f:\n",
    "#         pickle.dump(test_population, f)"
   ]
  },
  {
   "cell_type": "code",
   "execution_count": 10,
   "metadata": {},
   "outputs": [
    {
     "name": "stdout",
     "output_type": "stream",
     "text": [
      "elapsed_time:\n",
      "1.1648218999999997\n",
      "number_of_generations:\n",
      "1470\n",
      "completed_state:\n",
      "[6, 1, 3, 0, 7, 4, 2, 5]\n",
      "=========================\n",
      "elapsed_time:\n",
      "2.365670200000004\n",
      "number_of_generations:\n",
      "2818\n",
      "completed_state:\n",
      "[2, 6, 1, 7, 4, 0, 3, 5]\n",
      "=========================\n"
     ]
    },
    {
     "ename": "KeyboardInterrupt",
     "evalue": "",
     "output_type": "error",
     "traceback": [
      "\u001b[1;31m---------------------------------------------------------------------------\u001b[0m",
      "\u001b[1;31mKeyboardInterrupt\u001b[0m                         Traceback (most recent call last)",
      "\u001b[1;32m~\\AppData\\Local\\Temp/ipykernel_19648/1962325827.py\u001b[0m in \u001b[0;36m<module>\u001b[1;34m\u001b[0m\n\u001b[0;32m     16\u001b[0m \u001b[1;32mfor\u001b[0m \u001b[0mpop\u001b[0m \u001b[1;32min\u001b[0m \u001b[0mtest_population\u001b[0m\u001b[1;33m:\u001b[0m\u001b[1;33m\u001b[0m\u001b[1;33m\u001b[0m\u001b[0m\n\u001b[0;32m     17\u001b[0m \u001b[1;33m\u001b[0m\u001b[0m\n\u001b[1;32m---> 18\u001b[1;33m         \u001b[0mga_result\u001b[0m \u001b[1;33m=\u001b[0m \u001b[0mgenetic_algorithm\u001b[0m\u001b[1;33m(\u001b[0m\u001b[0mpopulation\u001b[0m\u001b[1;33m)\u001b[0m\u001b[1;33m\u001b[0m\u001b[1;33m\u001b[0m\u001b[0m\n\u001b[0m\u001b[0;32m     19\u001b[0m \u001b[1;33m\u001b[0m\u001b[0m\n\u001b[0;32m     20\u001b[0m         \u001b[0mresults\u001b[0m\u001b[1;33m[\u001b[0m\u001b[1;34m\"elapsed_time\"\u001b[0m\u001b[1;33m]\u001b[0m\u001b[1;33m.\u001b[0m\u001b[0mappend\u001b[0m\u001b[1;33m(\u001b[0m\u001b[0mga_result\u001b[0m\u001b[1;33m[\u001b[0m\u001b[1;34m\"elapsed_time\"\u001b[0m\u001b[1;33m]\u001b[0m\u001b[1;33m)\u001b[0m\u001b[1;33m\u001b[0m\u001b[1;33m\u001b[0m\u001b[0m\n",
      "\u001b[1;32m~\\AppData\\Local\\Temp/ipykernel_19648/4059626380.py\u001b[0m in \u001b[0;36mgenetic_algorithm\u001b[1;34m(population)\u001b[0m\n\u001b[0;32m     17\u001b[0m     \u001b[1;31m# # g) check if it has found correct state and exit loop\u001b[0m\u001b[1;33m\u001b[0m\u001b[1;33m\u001b[0m\u001b[1;33m\u001b[0m\u001b[0m\n\u001b[0;32m     18\u001b[0m     \u001b[1;32mwhile\u001b[0m \u001b[1;32mnot\u001b[0m \u001b[0mcompleted_genotype\u001b[0m\u001b[1;33m:\u001b[0m\u001b[1;33m\u001b[0m\u001b[1;33m\u001b[0m\u001b[0m\n\u001b[1;32m---> 19\u001b[1;33m         \u001b[0mpopulation\u001b[0m \u001b[1;33m=\u001b[0m \u001b[0mgeneration\u001b[0m\u001b[1;33m(\u001b[0m\u001b[0mpopulation\u001b[0m\u001b[1;33m,\u001b[0m \u001b[0mSIZE_OF_POPULATION\u001b[0m\u001b[1;33m,\u001b[0m \u001b[0mNUMBER_OF_QUEENS\u001b[0m\u001b[1;33m,\u001b[0m \u001b[0mMUTATION_FREQUENCY\u001b[0m\u001b[1;33m)\u001b[0m\u001b[1;33m\u001b[0m\u001b[1;33m\u001b[0m\u001b[0m\n\u001b[0m\u001b[0;32m     20\u001b[0m         \u001b[0mcompleted_genotype\u001b[0m \u001b[1;33m=\u001b[0m \u001b[0mcheck_for_perfect_genotype\u001b[0m\u001b[1;33m(\u001b[0m\u001b[0mpopulation\u001b[0m\u001b[1;33m,\u001b[0m \u001b[0mPERFECT_SCORE\u001b[0m\u001b[1;33m)\u001b[0m\u001b[1;33m\u001b[0m\u001b[1;33m\u001b[0m\u001b[0m\n\u001b[0;32m     21\u001b[0m         \u001b[0mgen\u001b[0m \u001b[1;33m+=\u001b[0m \u001b[1;36m1\u001b[0m\u001b[1;33m\u001b[0m\u001b[1;33m\u001b[0m\u001b[0m\n",
      "\u001b[1;32m~\\AppData\\Local\\Temp/ipykernel_19648/2382335001.py\u001b[0m in \u001b[0;36mgeneration\u001b[1;34m(population, size_of_population, number_of_queens, mutation_frequency)\u001b[0m\n\u001b[0;32m     10\u001b[0m \u001b[1;33m\u001b[0m\u001b[0m\n\u001b[0;32m     11\u001b[0m     \u001b[1;31m# e) mutation\u001b[0m\u001b[1;33m\u001b[0m\u001b[1;33m\u001b[0m\u001b[1;33m\u001b[0m\u001b[0m\n\u001b[1;32m---> 12\u001b[1;33m     \u001b[0mmutated\u001b[0m \u001b[1;33m=\u001b[0m \u001b[0mmutation\u001b[0m\u001b[1;33m(\u001b[0m\u001b[0mchildren\u001b[0m\u001b[1;33m,\u001b[0m \u001b[0mmutation_frequency\u001b[0m\u001b[1;33m,\u001b[0m \u001b[0mnumber_of_queens\u001b[0m\u001b[1;33m)\u001b[0m\u001b[1;33m\u001b[0m\u001b[1;33m\u001b[0m\u001b[0m\n\u001b[0m\u001b[0;32m     13\u001b[0m \u001b[1;33m\u001b[0m\u001b[0m\n\u001b[0;32m     14\u001b[0m     \u001b[1;32mreturn\u001b[0m \u001b[0mmutated\u001b[0m\u001b[1;33m\u001b[0m\u001b[1;33m\u001b[0m\u001b[0m\n",
      "\u001b[1;32mc:\\Users\\SAB68\\repos\\samsambutdifferent\\eight-queen-problem\\BasicGaAlgorithim.py\u001b[0m in \u001b[0;36mmutation\u001b[1;34m(population, mutation_frequency, number_of_queens)\u001b[0m\n\u001b[0;32m    111\u001b[0m     \u001b[1;32mfor\u001b[0m \u001b[0mgenotype\u001b[0m \u001b[1;32min\u001b[0m \u001b[0mpopulation\u001b[0m\u001b[1;33m:\u001b[0m\u001b[1;33m\u001b[0m\u001b[1;33m\u001b[0m\u001b[0m\n\u001b[0;32m    112\u001b[0m         \u001b[1;32mfor\u001b[0m \u001b[0ms_i\u001b[0m\u001b[1;33m,\u001b[0m\u001b[0m_\u001b[0m \u001b[1;32min\u001b[0m \u001b[0menumerate\u001b[0m\u001b[1;33m(\u001b[0m\u001b[0mgenotype\u001b[0m\u001b[1;33m)\u001b[0m\u001b[1;33m:\u001b[0m\u001b[1;33m\u001b[0m\u001b[1;33m\u001b[0m\u001b[0m\n\u001b[1;32m--> 113\u001b[1;33m             \u001b[0mx\u001b[0m \u001b[1;33m=\u001b[0m \u001b[0mrandom\u001b[0m\u001b[1;33m.\u001b[0m\u001b[0mrandint\u001b[0m\u001b[1;33m(\u001b[0m\u001b[1;36m1\u001b[0m\u001b[1;33m,\u001b[0m \u001b[0mmutation_frequency\u001b[0m\u001b[1;33m)\u001b[0m\u001b[1;33m\u001b[0m\u001b[1;33m\u001b[0m\u001b[0m\n\u001b[0m\u001b[0;32m    114\u001b[0m             \u001b[1;32mif\u001b[0m \u001b[0mx\u001b[0m \u001b[1;33m==\u001b[0m \u001b[1;36m1\u001b[0m\u001b[1;33m:\u001b[0m\u001b[1;33m\u001b[0m\u001b[1;33m\u001b[0m\u001b[0m\n\u001b[0;32m    115\u001b[0m                 \u001b[0mgenotype\u001b[0m\u001b[1;33m[\u001b[0m\u001b[0ms_i\u001b[0m\u001b[1;33m]\u001b[0m \u001b[1;33m=\u001b[0m \u001b[0m_mutate\u001b[0m\u001b[1;33m(\u001b[0m\u001b[0mgenotype\u001b[0m\u001b[1;33m[\u001b[0m\u001b[0ms_i\u001b[0m\u001b[1;33m]\u001b[0m\u001b[1;33m,\u001b[0m \u001b[0mnumber_of_queens\u001b[0m\u001b[1;33m)\u001b[0m\u001b[1;33m\u001b[0m\u001b[1;33m\u001b[0m\u001b[0m\n",
      "\u001b[1;32mC:\\Python39\\lib\\random.py\u001b[0m in \u001b[0;36mrandint\u001b[1;34m(self, a, b)\u001b[0m\n\u001b[0;32m    337\u001b[0m         \"\"\"\n\u001b[0;32m    338\u001b[0m \u001b[1;33m\u001b[0m\u001b[0m\n\u001b[1;32m--> 339\u001b[1;33m         \u001b[1;32mreturn\u001b[0m \u001b[0mself\u001b[0m\u001b[1;33m.\u001b[0m\u001b[0mrandrange\u001b[0m\u001b[1;33m(\u001b[0m\u001b[0ma\u001b[0m\u001b[1;33m,\u001b[0m \u001b[0mb\u001b[0m\u001b[1;33m+\u001b[0m\u001b[1;36m1\u001b[0m\u001b[1;33m)\u001b[0m\u001b[1;33m\u001b[0m\u001b[1;33m\u001b[0m\u001b[0m\n\u001b[0m\u001b[0;32m    340\u001b[0m \u001b[1;33m\u001b[0m\u001b[0m\n\u001b[0;32m    341\u001b[0m \u001b[1;33m\u001b[0m\u001b[0m\n",
      "\u001b[1;32mC:\\Python39\\lib\\random.py\u001b[0m in \u001b[0;36mrandrange\u001b[1;34m(self, start, stop, step)\u001b[0m\n\u001b[0;32m    313\u001b[0m         \u001b[0mwidth\u001b[0m \u001b[1;33m=\u001b[0m \u001b[0mistop\u001b[0m \u001b[1;33m-\u001b[0m \u001b[0mistart\u001b[0m\u001b[1;33m\u001b[0m\u001b[1;33m\u001b[0m\u001b[0m\n\u001b[0;32m    314\u001b[0m         \u001b[1;32mif\u001b[0m \u001b[0mstep\u001b[0m \u001b[1;33m==\u001b[0m \u001b[1;36m1\u001b[0m \u001b[1;32mand\u001b[0m \u001b[0mwidth\u001b[0m \u001b[1;33m>\u001b[0m \u001b[1;36m0\u001b[0m\u001b[1;33m:\u001b[0m\u001b[1;33m\u001b[0m\u001b[1;33m\u001b[0m\u001b[0m\n\u001b[1;32m--> 315\u001b[1;33m             \u001b[1;32mreturn\u001b[0m \u001b[0mistart\u001b[0m \u001b[1;33m+\u001b[0m \u001b[0mself\u001b[0m\u001b[1;33m.\u001b[0m\u001b[0m_randbelow\u001b[0m\u001b[1;33m(\u001b[0m\u001b[0mwidth\u001b[0m\u001b[1;33m)\u001b[0m\u001b[1;33m\u001b[0m\u001b[1;33m\u001b[0m\u001b[0m\n\u001b[0m\u001b[0;32m    316\u001b[0m         \u001b[1;32mif\u001b[0m \u001b[0mstep\u001b[0m \u001b[1;33m==\u001b[0m \u001b[1;36m1\u001b[0m\u001b[1;33m:\u001b[0m\u001b[1;33m\u001b[0m\u001b[1;33m\u001b[0m\u001b[0m\n\u001b[0;32m    317\u001b[0m             \u001b[1;32mraise\u001b[0m \u001b[0mValueError\u001b[0m\u001b[1;33m(\u001b[0m\u001b[1;34m\"empty range for randrange() (%d, %d, %d)\"\u001b[0m \u001b[1;33m%\u001b[0m \u001b[1;33m(\u001b[0m\u001b[0mistart\u001b[0m\u001b[1;33m,\u001b[0m \u001b[0mistop\u001b[0m\u001b[1;33m,\u001b[0m \u001b[0mwidth\u001b[0m\u001b[1;33m)\u001b[0m\u001b[1;33m)\u001b[0m\u001b[1;33m\u001b[0m\u001b[1;33m\u001b[0m\u001b[0m\n",
      "\u001b[1;32mC:\\Python39\\lib\\random.py\u001b[0m in \u001b[0;36m_randbelow_with_getrandbits\u001b[1;34m(self, n)\u001b[0m\n\u001b[0;32m    242\u001b[0m             \u001b[1;32mreturn\u001b[0m \u001b[1;36m0\u001b[0m\u001b[1;33m\u001b[0m\u001b[1;33m\u001b[0m\u001b[0m\n\u001b[0;32m    243\u001b[0m         \u001b[0mgetrandbits\u001b[0m \u001b[1;33m=\u001b[0m \u001b[0mself\u001b[0m\u001b[1;33m.\u001b[0m\u001b[0mgetrandbits\u001b[0m\u001b[1;33m\u001b[0m\u001b[1;33m\u001b[0m\u001b[0m\n\u001b[1;32m--> 244\u001b[1;33m         \u001b[0mk\u001b[0m \u001b[1;33m=\u001b[0m \u001b[0mn\u001b[0m\u001b[1;33m.\u001b[0m\u001b[0mbit_length\u001b[0m\u001b[1;33m(\u001b[0m\u001b[1;33m)\u001b[0m  \u001b[1;31m# don't use (n-1) here because n can be 1\u001b[0m\u001b[1;33m\u001b[0m\u001b[1;33m\u001b[0m\u001b[0m\n\u001b[0m\u001b[0;32m    245\u001b[0m         \u001b[0mr\u001b[0m \u001b[1;33m=\u001b[0m \u001b[0mgetrandbits\u001b[0m\u001b[1;33m(\u001b[0m\u001b[0mk\u001b[0m\u001b[1;33m)\u001b[0m  \u001b[1;31m# 0 <= r < 2**k\u001b[0m\u001b[1;33m\u001b[0m\u001b[1;33m\u001b[0m\u001b[0m\n\u001b[0;32m    246\u001b[0m         \u001b[1;32mwhile\u001b[0m \u001b[0mr\u001b[0m \u001b[1;33m>=\u001b[0m \u001b[0mn\u001b[0m\u001b[1;33m:\u001b[0m\u001b[1;33m\u001b[0m\u001b[1;33m\u001b[0m\u001b[0m\n",
      "\u001b[1;31mKeyboardInterrupt\u001b[0m: "
     ]
    }
   ],
   "source": [
    "# run algo on all test populations\n",
    "\n",
    "import pickle\n",
    "\n",
    "test_populations_name = 'testpopulations\\\\test_populations_500'\n",
    "\n",
    "with open(test_populations_name, 'rb') as f:\n",
    "    test_population = pickle.load(f)\n",
    "\n",
    "results = {\n",
    "        \"elapsed_time\": [],\n",
    "        \"number_of_generations\": [],\n",
    "        \"completed_state\": []\n",
    "}\n",
    "\n",
    "for pop in test_population:\n",
    "\n",
    "        ga_result = genetic_algorithm(population)\n",
    "\n",
    "        results[\"elapsed_time\"].append(ga_result[\"elapsed_time\"])\n",
    "        results[\"number_of_generations\"].append(ga_result[\"number_of_generations\"])\n",
    "        results[\"completed_state\"].append(ga_result[\"completed_state\"])\n",
    "\n",
    "        print(f\"elapsed_time:\")\n",
    "        print(ga_result[\"elapsed_time\"])\n",
    "        print(f\"number_of_generations:\")\n",
    "        print(ga_result[\"number_of_generations\"])\n",
    "        print(f\"completed_state:\")\n",
    "        print(ga_result[\"completed_state\"])\n",
    "        print(\"=========================\")\n",
    "\n",
    "results"
   ]
  },
  {
   "cell_type": "code",
   "execution_count": null,
   "metadata": {},
   "outputs": [],
   "source": [
    "for completed_state in results[\"completed_state\"]:\n",
    "\n",
    "    if fitness_function(completed_state) < 28:\n",
    "        print(completed_state)\n"
   ]
  },
  {
   "cell_type": "code",
   "execution_count": 14,
   "metadata": {},
   "outputs": [
    {
     "name": "stdout",
     "output_type": "stream",
     "text": [
      "    elapsed_time  number_of_generations           completed_state\n",
      "0      26.838778                  12844  [2, 4, 7, 3, 0, 6, 1, 5]\n",
      "1       5.146959                   2838  [2, 0, 6, 4, 7, 1, 3, 5]\n",
      "2      18.162967                   8837  [2, 0, 6, 4, 7, 1, 3, 5]\n",
      "3       1.277525                    345  [2, 4, 1, 7, 5, 3, 6, 0]\n",
      "4       5.691536                   2131  [1, 3, 5, 7, 2, 0, 6, 4]\n",
      "..           ...                    ...                       ...\n",
      "95      3.818170                   2321  [3, 7, 0, 2, 5, 1, 6, 4]\n",
      "96      4.277137                   2278  [1, 5, 7, 2, 0, 3, 6, 4]\n",
      "97      6.527594                   3784  [4, 6, 1, 3, 7, 0, 2, 5]\n",
      "98     15.131332                   8584  [3, 5, 0, 4, 1, 7, 2, 6]\n",
      "99      2.798063                   2066  [5, 2, 4, 7, 0, 3, 1, 6]\n",
      "\n",
      "[100 rows x 3 columns]\n",
      "mean_number_of_generations: 4976.77\n",
      "std_number_of_generations: 5271.119799100058\n",
      "mean_elapsed_time: 13.167167086999997\n",
      "std_elapsed_time: 14.698733120887383\n",
      "over_30_seconds\n",
      "    elapsed_time  number_of_generations           completed_state\n",
      "27     76.613572                  22710  [1, 4, 6, 0, 2, 7, 5, 3]\n",
      "28     39.363578                  14530  [2, 5, 3, 1, 7, 4, 6, 0]\n",
      "33     37.105358                  13859  [2, 5, 1, 6, 4, 0, 7, 3]\n",
      "36     53.206110                  19152  [3, 5, 7, 2, 0, 6, 4, 1]\n",
      "41     54.410877                  18764  [2, 5, 3, 0, 7, 4, 6, 1]\n",
      "53     49.930485                  15873  [5, 0, 4, 1, 7, 2, 6, 3]\n",
      "72     69.631680                  22801  [3, 6, 4, 2, 0, 5, 7, 1]\n",
      "76     36.661241                  17377  [3, 1, 6, 4, 0, 7, 5, 2]\n",
      "90     53.711701                  23829  [2, 4, 7, 3, 0, 6, 1, 5]\n"
     ]
    },
    {
     "data": {
      "image/png": "[encoded data removed]",
      "text/plain": [
       "<Figure size 864x432 with 1 Axes>"
      ]
     },
     "metadata": {
      "needs_background": "light"
     },
     "output_type": "display_data"
    },
    {
     "data": {
      "image/png": "[encoded data removed]",
      "text/plain": [
       "<Figure size 864x432 with 1 Axes>"
      ]
     },
     "metadata": {
      "needs_background": "light"
     },
     "output_type": "display_data"
    }
   ],
   "source": [
    "import os\n",
    "\n",
    "unique_identifier = \"100_500_population\"\n",
    "parent_directory = \"C:\\\\Users\\\\SAB68\\\\repos\\\\samsambutdifferent\\\\eight-queen-problem\\\\results\\\\basic\"\n",
    "\n",
    "path = os.path.join(parent_directory, unique_identifier)\n",
    "\n",
    "if not os.path.exists(path):\n",
    "    os.mkdir(path)\n",
    "\n",
    "config = {\n",
    "    \"NUMBER_OF_QUEENS\": NUMBER_OF_QUEENS,\n",
    "    \"SIZE_OF_POPULATION\": SIZE_OF_POPULATION,\n",
    "    \"MUTATION_FREQUENCY\": MUTATION_FREQUENCY,\n",
    "    \"PERFECT_SCORE\": PERFECT_SCORE,\n",
    "    \"test_file\": test_populations_name\n",
    "}\n",
    "\n",
    "f = open(path + \"\\\\config\", \"w\")\n",
    "\n",
    "for item in config.items():\n",
    "    f.writelines(str(item) + '\\n')\n",
    "f.close()\n",
    "\n",
    "\n",
    "import pandas as pd\n",
    "\n",
    "results_df = pd.DataFrame(results)\n",
    "\n",
    "mean_number_of_generations = results_df[\"number_of_generations\"].mean()\n",
    "mean_elapsed_time = results_df[\"elapsed_time\"].mean()\n",
    "\n",
    "std_number_of_generations = results_df[\"number_of_generations\"].std()\n",
    "std_elapsed_time = results_df[\"elapsed_time\"].std()\n",
    "\n",
    "print(results_df)\n",
    "\n",
    "print(f\"mean_number_of_generations: {mean_number_of_generations}\")\n",
    "print(f\"std_number_of_generations: {std_number_of_generations}\")\n",
    "print(f\"mean_elapsed_time: {mean_elapsed_time}\")\n",
    "print(f\"std_elapsed_time: {std_elapsed_time}\")\n",
    "\n",
    "\n",
    "f = open(path + \"\\\\metrics\", \"w\")\n",
    "f.writelines(f\"mean_number_of_generations: {mean_number_of_generations}\" + '\\n')\n",
    "f.writelines(f\"std_number_of_generations: {std_number_of_generations}\" + '\\n')\n",
    "f.writelines(f\"mean_elapsed_time: {mean_elapsed_time}\" + '\\n')\n",
    "f.writelines(f\"std_elapsed_time: {std_elapsed_time}\" + '\\n')\n",
    "f.writelines('\\n')\n",
    "f.write(str(results_df))\n",
    "f.close()\n",
    "\n",
    "\n",
    "# check all results finish\n",
    "over_30_seconds = results_df[results_df[\"elapsed_time\"] > 30]\n",
    "f = open(path + \"\\\\over_30_seconds\", \"w\")\n",
    "f.write(str(over_30_seconds))\n",
    "f.close()\n",
    "print(\"over_30_seconds\")\n",
    "print(over_30_seconds)\n",
    "\n",
    "\n",
    "import math\n",
    "\n",
    "def round_down_to_1000(x):\n",
    "    return round(x, -3) \n",
    "\n",
    "\n",
    "floored_elapsed_time = results_df[\"elapsed_time\"].apply(math.floor)\n",
    "floored_number_of_generations = results_df[\"number_of_generations\"].apply(round_down_to_1000)\n",
    "\n",
    "frame = { 'elapsed_time': floored_elapsed_time, 'number_of_generations': floored_number_of_generations }\n",
    "\n",
    "floored_results_df = pd.DataFrame(frame)\n",
    "\n",
    "import seaborn as sns\n",
    "import matplotlib.pyplot as plt\n",
    "\n",
    "plt.figure(figsize=(12,6))\n",
    "\n",
    "fig = sns.barplot(x=floored_results_df.elapsed_time.value_counts().index, y=floored_results_df.elapsed_time.value_counts())\n",
    "\n",
    "plt.xlabel(\"elapsed time\")\n",
    "plt.ylabel(\"counts\")\n",
    "plt.title(\"Counts of elapsed times\")\n",
    "plt.savefig(path + '/counts_of_elapsed_time.png')\n",
    "plt.show(fig)\n",
    "\n",
    "plt.figure(figsize=(12,6))\n",
    "\n",
    "fig = sns.barplot(x=floored_results_df.number_of_generations.value_counts().index, y=floored_results_df.number_of_generations.value_counts())\n",
    "\n",
    "plt.xlabel(\"generations\")\n",
    "plt.ylabel(\"counts\")\n",
    "plt.title(\"Counts of Generations\")\n",
    "plt.savefig(path + '/counts_of_generations.png')\n",
    "plt.show(fig)\n"
   ]
  },
  {
   "cell_type": "code",
   "execution_count": null,
   "metadata": {},
   "outputs": [],
   "source": []
  }
 ],
 "metadata": {
  "kernelspec": {
   "display_name": "Python 3",
   "language": "python",
   "name": "python3"
  },
  "language_info": {
   "codemirror_mode": {
    "name": "ipython",
    "version": 3
   },
   "file_extension": ".py",
   "mimetype": "text/x-python",
   "name": "python",
   "nbconvert_exporter": "python",
   "pygments_lexer": "ipython3",
   "version": "3.9.5"
  }
 },
 "nbformat": 4,
 "nbformat_minor": 0
}
