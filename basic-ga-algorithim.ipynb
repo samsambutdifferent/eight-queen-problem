{
 "cells": [
  {
   "cell_type": "markdown",
   "metadata": {
    "collapsed": true,
    "pycharm": {
     "name": "#%% md\n"
    }
   },
   "source": [
    "# Eight Queens Genetic Algorithim"
   ]
  },
  {
   "cell_type": "markdown",
   "metadata": {},
   "source": [
    "a) generate population"
   ]
  },
  {
   "cell_type": "code",
   "execution_count": 1,
   "metadata": {
    "collapsed": false,
    "pycharm": {
     "name": "#%%\n"
    }
   },
   "outputs": [
    {
     "data": {
      "text/plain": [
       "[[2, 1, 0], [0, 0, 0], [0, 2, 2]]"
      ]
     },
     "execution_count": 1,
     "metadata": {},
     "output_type": "execute_result"
    }
   ],
   "source": [
    "from BasicGaAlgorithim import generate_population\n",
    "\n",
    "generate_population(3, 3)"
   ]
  },
  {
   "cell_type": "markdown",
   "metadata": {},
   "source": [
    "b) fitness function"
   ]
  },
  {
   "cell_type": "code",
   "execution_count": 2,
   "metadata": {
    "collapsed": false,
    "pycharm": {
     "name": "#%%\n"
    }
   },
   "outputs": [],
   "source": [
    "from BasicGaAlgorithim import fitness_function\n",
    "\n",
    "assert fitness_function([7,1,4,2,0,6,3,5]) == 28\n",
    "assert fitness_function([7,2,4,2,0,6,3,2]) == 23\n",
    "assert fitness_function([1,1,1,1,0,6,3,2]) == 19\n",
    "assert fitness_function([1,1,1,1,1,1,1,1]) == 0\n",
    "assert fitness_function([1,2,3,4,5,6,7,8]) == 0"
   ]
  },
  {
   "cell_type": "markdown",
   "metadata": {},
   "source": [
    "c)\tselection:"
   ]
  },
  {
   "cell_type": "code",
   "execution_count": 3,
   "metadata": {
    "collapsed": false,
    "pycharm": {
     "name": "#%%\n"
    }
   },
   "outputs": [
    {
     "name": "stdout",
     "output_type": "stream",
     "text": [
      "initial populations:\n",
      "[[2, 2, 0], [1, 0, 0], [0, 1, 2], [0, 2, 0], [0, 0, 0]]\n",
      "fitness scores:\n",
      "[1.0, 1.0, 0.0, 2.0, 0.0]\n",
      "selected parents\n"
     ]
    },
    {
     "data": {
      "text/plain": [
       "[([2, 2, 0], [0, 2, 0]), ([0, 2, 0], [2, 2, 0]), ([1, 0, 0], [2, 2, 0])]"
      ]
     },
     "execution_count": 3,
     "metadata": {},
     "output_type": "execute_result"
    }
   ],
   "source": [
    "from BasicGaAlgorithim import selection\n",
    "\n",
    "\n",
    "population = generate_population(3, 5)\n",
    "fitness_scores = [fitness_function(genotype) for genotype in population]\n",
    "print(\"initial populations:\")\n",
    "print(population)\n",
    "print(\"fitness scores:\")\n",
    "print(fitness_scores)\n",
    "print(\"selected parents\")\n",
    "selection(population, fitness_scores, 3)\n"
   ]
  },
  {
   "cell_type": "markdown",
   "metadata": {},
   "source": [
    "d)\tCrossover"
   ]
  },
  {
   "cell_type": "code",
   "execution_count": 4,
   "metadata": {
    "collapsed": false,
    "pycharm": {
     "name": "#%%\n"
    }
   },
   "outputs": [
    {
     "name": "stdout",
     "output_type": "stream",
     "text": [
      "selected parents\n",
      "[([0, 2, 0], [2, 0, 0]), ([0, 2, 0], [2, 0, 0]), ([0, 2, 0], [2, 0, 0])]\n",
      "offspring\n"
     ]
    },
    {
     "data": {
      "text/plain": [
       "[[2, 0, 0], [2, 0, 0], [0, 0, 0]]"
      ]
     },
     "execution_count": 4,
     "metadata": {},
     "output_type": "execute_result"
    }
   ],
   "source": [
    "from BasicGaAlgorithim import crossover\n",
    "\n",
    "\n",
    "population = generate_population(3, 3)\n",
    "fitness_scores = [fitness_function(genotype) for genotype in population]\n",
    "selected_parents = selection(population, fitness_scores, 3)\n",
    "\n",
    "print(\"selected parents\")\n",
    "print(selected_parents)\n",
    "print(\"offspring\")\n",
    "\n",
    "crossover(selected_parents, 3)"
   ]
  },
  {
   "cell_type": "markdown",
   "metadata": {},
   "source": [
    "e)  mutation"
   ]
  },
  {
   "cell_type": "code",
   "execution_count": 5,
   "metadata": {},
   "outputs": [
    {
     "name": "stdout",
     "output_type": "stream",
     "text": [
      "offspring\n",
      "[[0, 1, 2], [2, 1, 2], [2, 1, 2]]\n",
      "mutated\n"
     ]
    },
    {
     "data": {
      "text/plain": [
       "[[0, 1, 0], [0, 2, 2], [2, 1, 2]]"
      ]
     },
     "execution_count": 5,
     "metadata": {},
     "output_type": "execute_result"
    }
   ],
   "source": [
    "from BasicGaAlgorithim import mutation\n",
    "\n",
    "\n",
    "population = generate_population(3, 3)\n",
    "fitness_scores = [fitness_function(genotype) for genotype in population]\n",
    "selected_parents = selection(population, fitness_scores, 3)\n",
    "offspring = crossover(selected_parents, 3)\n",
    "print(\"offspring\")\n",
    "print(offspring)\n",
    "print(\"mutated\")\n",
    "\n",
    "mutation(population, 2, 3)"
   ]
  },
  {
   "cell_type": "markdown",
   "metadata": {},
   "source": [
    "check for completion and calclate perfect score"
   ]
  },
  {
   "cell_type": "code",
   "execution_count": 6,
   "metadata": {},
   "outputs": [
    {
     "name": "stdout",
     "output_type": "stream",
     "text": [
      "28.0\n"
     ]
    }
   ],
   "source": [
    "from BasicGaAlgorithim import check_for_perfect_genotype, calculate_perfect_score\n",
    "\n",
    "# print(check_for_perfect_genotype([7,1,4,2,0,6,3,5]))\n",
    "print(calculate_perfect_score(8))"
   ]
  },
  {
   "cell_type": "markdown",
   "metadata": {},
   "source": [
    "generation"
   ]
  },
  {
   "cell_type": "code",
   "execution_count": 7,
   "metadata": {
    "collapsed": false,
    "pycharm": {
     "name": "#%%\n"
    }
   },
   "outputs": [
    {
     "data": {
      "text/plain": [
       "[[2, 2, 2], [2, 0, 2], [0, 2, 2]]"
      ]
     },
     "execution_count": 7,
     "metadata": {},
     "output_type": "execute_result"
    }
   ],
   "source": [
    "\n",
    "def generation(population, size_of_population, number_of_queens, mutation_frequency):\n",
    "    # b) fitness function\n",
    "    fit_scores = [fitness_function(genotype) for genotype in population]\n",
    "\n",
    "    # c) selection\n",
    "    selected_pairs = selection(population, fit_scores, size_of_population)\n",
    "    \n",
    "    # d) cross over\n",
    "    children = crossover(selected_pairs, number_of_queens)\n",
    "\n",
    "    # e) mutation\n",
    "    mutated = mutation(children, mutation_frequency, number_of_queens)\n",
    "\n",
    "    return mutated\n",
    "\n",
    "# a) Initial Population\n",
    "population = generate_population(3, 3)\n",
    "generation(population, 3, 3, 2)\n"
   ]
  },
  {
   "cell_type": "markdown",
   "metadata": {},
   "source": [
    "Full algorithim"
   ]
  },
  {
   "cell_type": "code",
   "execution_count": 8,
   "metadata": {
    "collapsed": false,
    "pycharm": {
     "name": "#%%\n"
    }
   },
   "outputs": [
    {
     "data": {
      "text/plain": [
       "{'elapsed_time': 0.5209371999999348,\n",
       " 'number_of_generations': 286,\n",
       " 'completed_state': [4, 1, 5, 0, 6, 3, 7, 2]}"
      ]
     },
     "execution_count": 8,
     "metadata": {},
     "output_type": "execute_result"
    }
   ],
   "source": [
    "import timeit\n",
    "\n",
    "NUMBER_OF_QUEENS=8\n",
    "SIZE_OF_POPULATION=25\n",
    "MUTATION_FREQUENCY = 8\n",
    "# TODO HOW IS THIS CALCULATED\n",
    "PERFECT_SCORE = calculate_perfect_score(NUMBER_OF_QUEENS)\n",
    "\n",
    "\n",
    "def genetic_algorithm(population):\n",
    "\n",
    "    start_time = timeit.default_timer()\n",
    "\n",
    "    gen = 0\n",
    "    completed_genotype = []\n",
    "\n",
    "    # # g) check if it has found correct state and exit loop\n",
    "    while not completed_genotype:\n",
    "        population = generation(population, SIZE_OF_POPULATION, NUMBER_OF_QUEENS, MUTATION_FREQUENCY)\n",
    "        completed_genotype = check_for_perfect_genotype(population, PERFECT_SCORE)\n",
    "        gen += 1\n",
    "\n",
    "        if gen == 100000:\n",
    "            break\n",
    "\n",
    "    stop_time = timeit.default_timer()\n",
    "\n",
    "    return {\n",
    "        \"elapsed_time\": stop_time - start_time,\n",
    "        \"number_of_generations\": gen,\n",
    "        \"completed_state\": completed_genotype\n",
    "    }\n",
    "\n",
    "# a) generate initial population\n",
    "population = generate_population(NUMBER_OF_QUEENS, SIZE_OF_POPULATION)\n",
    "\n",
    "ga_result = genetic_algorithm(population)\n",
    "\n",
    "ga_result"
   ]
  },
  {
   "cell_type": "code",
   "execution_count": 9,
   "metadata": {},
   "outputs": [],
   "source": [
    "# # generate test population\n",
    "# # only need to do this once\n",
    "\n",
    "# import pickle\n",
    "\n",
    "\n",
    "# # generate test populations\n",
    "\n",
    "# test_population = []\n",
    "\n",
    "# for i in range(100):\n",
    "#         test_population.append( generate_population(NUMBER_OF_QUEENS, SIZE_OF_POPULATION))\n",
    "\n",
    "# with open(test_populations_name, 'wb') as f:\n",
    "#         pickle.dump(test_population, f)"
   ]
  },
  {
   "cell_type": "code",
   "execution_count": 11,
   "metadata": {},
   "outputs": [],
   "source": [
    "# run algo on all test populations\n",
    "\n",
    "import pickle\n",
    "\n",
    "test_populations_name = 'testpopulations\\\\test_populations_500'\n",
    "\n",
    "with open(test_populations_name, 'rb') as f:\n",
    "    test_population = pickle.load(f)\n",
    "\n",
    "results = {\n",
    "        \"elapsed_time\": [],\n",
    "        \"number_of_generations\": [],\n",
    "        \"completed_state\": []\n",
    "}\n",
    "\n",
    "for pop in test_population:\n",
    "\n",
    "        ga_result = genetic_algorithm(population)\n",
    "\n",
    "        results[\"elapsed_time\"].append(ga_result[\"elapsed_time\"])\n",
    "        results[\"number_of_generations\"].append(ga_result[\"number_of_generations\"])\n",
    "        results[\"completed_state\"].append(ga_result[\"completed_state\"])\n",
    "\n",
    "        print(f\"elapsed_time:\")\n",
    "        print(ga_result[\"elapsed_time\"])\n",
    "        print(f\"number_of_generations:\")\n",
    "        print(ga_result[\"number_of_generations\"])\n",
    "        print(f\"completed_state:\")\n",
    "        print(ga_result[\"completed_state\"])\n",
    "        print(\"=========================\")\n",
    "\n",
    "results"
   ]
  },
  {
   "cell_type": "code",
   "execution_count": 20,
   "metadata": {},
   "outputs": [],
   "source": [
    "for completed_state in results[\"completed_state\"]:\n",
    "\n",
    "    if fitness_function(completed_state) < 28:\n",
    "        print(completed_state)\n"
   ]
  },
  {
   "cell_type": "code",
   "execution_count": 21,
   "metadata": {},
   "outputs": [
    {
     "name": "stdout",
     "output_type": "stream",
     "text": [
      "    elapsed_time  number_of_generations           completed_state\n",
      "0       2.381978                   2574  [1, 4, 6, 3, 0, 7, 5, 2]\n",
      "1       0.786720                    960  [6, 3, 1, 4, 7, 0, 2, 5]\n",
      "2       4.458100                   4886  [6, 3, 1, 7, 5, 0, 2, 4]\n",
      "3      11.859114                  11456  [0, 5, 7, 2, 6, 3, 1, 4]\n",
      "4       2.105470                   2492  [2, 5, 1, 6, 4, 0, 7, 3]\n",
      "..           ...                    ...                       ...\n",
      "95     20.956315                   7203  [5, 2, 4, 6, 0, 3, 1, 7]\n",
      "96     15.870119                   6685  [2, 4, 1, 7, 5, 3, 6, 0]\n",
      "97     10.538671                   1591  [6, 2, 0, 5, 7, 4, 1, 3]\n",
      "98      7.759920                   2884  [4, 7, 3, 0, 2, 5, 1, 6]\n",
      "99      0.841214                    927  [4, 6, 0, 2, 7, 5, 3, 1]\n",
      "\n",
      "[100 rows x 3 columns]\n",
      "mean_number_of_generations: 4395.21\n",
      "std_number_of_generations: 4523.200762432808\n",
      "mean_elapsed_time: 7.092406728999991\n",
      "std_elapsed_time: 7.920645411522629\n",
      "over_30_seconds\n",
      "    elapsed_time  number_of_generations           completed_state\n",
      "73     43.309414                  14991  [1, 5, 0, 6, 3, 7, 2, 4]\n",
      "78     33.245821                  18714  [7, 3, 0, 2, 5, 1, 6, 4]\n",
      "81     30.703485                  14233  [4, 2, 0, 5, 7, 1, 3, 6]\n"
     ]
    },
    {
     "data": {
      "image/png": "[encoded data removed]",
      "text/plain": [
       "<Figure size 864x432 with 1 Axes>"
      ]
     },
     "metadata": {
      "needs_background": "light"
     },
     "output_type": "display_data"
    },
    {
     "data": {
      "image/png": "[encoded data removed]",
      "text/plain": [
       "<Figure size 864x432 with 1 Axes>"
      ]
     },
     "metadata": {
      "needs_background": "light"
     },
     "output_type": "display_data"
    }
   ],
   "source": [
    "import os\n",
    "\n",
    "unique_identifier = \"100_25-2_population\"\n",
    "parent_directory = \"C:\\\\Users\\\\SAB68\\\\repos\\\\samsambutdifferent\\\\eight-queen-problem\\\\results\\\\basic\"\n",
    "\n",
    "path = os.path.join(parent_directory, unique_identifier)\n",
    "\n",
    "if not os.path.exists(path):\n",
    "    os.mkdir(path)\n",
    "\n",
    "config = {\n",
    "    \"NUMBER_OF_QUEENS\": NUMBER_OF_QUEENS,\n",
    "    \"SIZE_OF_POPULATION\": SIZE_OF_POPULATION,\n",
    "    \"MUTATION_FREQUENCY\": MUTATION_FREQUENCY,\n",
    "    \"PERFECT_SCORE\": PERFECT_SCORE,\n",
    "    \"test_file\": test_populations_name\n",
    "}\n",
    "\n",
    "f = open(path + \"\\\\config\", \"w\")\n",
    "\n",
    "for item in config.items():\n",
    "    f.writelines(str(item) + '\\n')\n",
    "f.close()\n",
    "\n",
    "\n",
    "import pandas as pd\n",
    "\n",
    "results_df = pd.DataFrame(results)\n",
    "\n",
    "mean_number_of_generations = results_df[\"number_of_generations\"].mean()\n",
    "mean_elapsed_time = results_df[\"elapsed_time\"].mean()\n",
    "\n",
    "std_number_of_generations = results_df[\"number_of_generations\"].std()\n",
    "std_elapsed_time = results_df[\"elapsed_time\"].std()\n",
    "\n",
    "print(results_df)\n",
    "\n",
    "print(f\"mean_number_of_generations: {mean_number_of_generations}\")\n",
    "print(f\"std_number_of_generations: {std_number_of_generations}\")\n",
    "print(f\"mean_elapsed_time: {mean_elapsed_time}\")\n",
    "print(f\"std_elapsed_time: {std_elapsed_time}\")\n",
    "\n",
    "\n",
    "f = open(path + \"\\\\metrics\", \"w\")\n",
    "f.writelines(f\"mean_number_of_generations: {mean_number_of_generations}\" + '\\n')\n",
    "f.writelines(f\"std_number_of_generations: {std_number_of_generations}\" + '\\n')\n",
    "f.writelines(f\"mean_elapsed_time: {mean_elapsed_time}\" + '\\n')\n",
    "f.writelines(f\"std_elapsed_time: {std_elapsed_time}\" + '\\n')\n",
    "f.writelines('\\n')\n",
    "f.write(str(results_df))\n",
    "f.close()\n",
    "\n",
    "\n",
    "# check all results finish\n",
    "over_30_seconds = results_df[results_df[\"elapsed_time\"] > 30]\n",
    "f = open(path + \"\\\\over_30_seconds\", \"w\")\n",
    "f.write(str(over_30_seconds))\n",
    "f.close()\n",
    "print(\"over_30_seconds\")\n",
    "print(over_30_seconds)\n",
    "\n",
    "\n",
    "import math\n",
    "\n",
    "def round_down_to_1000(x):\n",
    "    return round(x, -3) \n",
    "\n",
    "\n",
    "floored_elapsed_time = results_df[\"elapsed_time\"].apply(math.floor)\n",
    "floored_number_of_generations = results_df[\"number_of_generations\"].apply(round_down_to_1000)\n",
    "\n",
    "frame = { 'elapsed_time': floored_elapsed_time, 'number_of_generations': floored_number_of_generations }\n",
    "\n",
    "floored_results_df = pd.DataFrame(frame)\n",
    "\n",
    "import seaborn as sns\n",
    "import matplotlib.pyplot as plt\n",
    "\n",
    "plt.figure(figsize=(12,6))\n",
    "\n",
    "fig = sns.barplot(x=floored_results_df.elapsed_time.value_counts().index, y=floored_results_df.elapsed_time.value_counts())\n",
    "\n",
    "plt.xlabel(\"elapsed time\")\n",
    "plt.ylabel(\"counts\")\n",
    "plt.title(\"Counts of elapsed times\")\n",
    "plt.savefig(path + '/counts_of_elapsed_time.png')\n",
    "plt.show(fig)\n",
    "\n",
    "plt.figure(figsize=(12,6))\n",
    "\n",
    "fig = sns.barplot(x=floored_results_df.number_of_generations.value_counts().index, y=floored_results_df.number_of_generations.value_counts())\n",
    "\n",
    "plt.xlabel(\"generations\")\n",
    "plt.ylabel(\"counts\")\n",
    "plt.title(\"Counts of Generations\")\n",
    "plt.savefig(path + '/counts_of_generations.png')\n",
    "plt.show(fig)\n"
   ]
  },
  {
   "cell_type": "code",
   "execution_count": null,
   "metadata": {},
   "outputs": [],
   "source": []
  }
 ],
 "metadata": {
  "kernelspec": {
   "display_name": "Python 3",
   "language": "python",
   "name": "python3"
  },
  "language_info": {
   "codemirror_mode": {
    "name": "ipython",
    "version": 3
   },
   "file_extension": ".py",
   "mimetype": "text/x-python",
   "name": "python",
   "nbconvert_exporter": "python",
   "pygments_lexer": "ipython3",
   "version": "3.9.5"
  }
 },
 "nbformat": 4,
 "nbformat_minor": 0
}
