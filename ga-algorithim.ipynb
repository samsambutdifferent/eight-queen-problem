{
 "cells": [
  {
   "cell_type": "markdown",
   "metadata": {
    "collapsed": true,
    "pycharm": {
     "name": "#%% md\n"
    }
   },
   "source": [
    "# Eight Queens Genetic Algorithim"
   ]
  },
  {
   "cell_type": "code",
   "execution_count": 1,
   "metadata": {
    "collapsed": false,
    "pycharm": {
     "name": "#%%\n"
    }
   },
   "outputs": [],
   "source": [
    "import random\n",
    "\n",
    "from scipy import special\n",
    "\n",
    "def generate_board_state(number_of_queens):\n",
    "    return [random.randrange(number_of_queens) for num in range(number_of_queens )]\n",
    "\n",
    "def generate_population(number_of_queens=8, size_of_population=19):\n",
    "        return [generate_board_state(number_of_queens) for _ in range(size_of_population)]\n",
    "\n",
    "def check_for_completed_board(boards, number_of_queens, perfect_score):\n",
    "    for board in boards:\n",
    "        if generate_fitness_score(board, number_of_queens) == perfect_score:\n",
    "            return board\n",
    "\n",
    "    return []\n"
   ]
  },
  {
   "cell_type": "code",
   "execution_count": 2,
   "metadata": {
    "collapsed": false,
    "pycharm": {
     "name": "#%%\n"
    }
   },
   "outputs": [
    {
     "data": {
      "text/plain": [
       "True"
      ]
     },
     "execution_count": 2,
     "metadata": {},
     "output_type": "execute_result"
    }
   ],
   "source": [
    "def generate_fitness_score(board_state, number_of_queens):\n",
    "    \"\"\"determine number of queens not being attacked\n",
    "        :input board_state array of queens\n",
    "    \"\"\"\n",
    "    fitness_score = 0\n",
    "\n",
    "    for determining_row_index in range(number_of_queens):\n",
    "        determining_value = board_state[determining_row_index]\n",
    "        for row_index in range(number_of_queens):\n",
    "            # can't attack itself\n",
    "            if determining_row_index == row_index:\n",
    "                continue\n",
    "            if board_state[row_index] == determining_value:\n",
    "                continue\n",
    "            if row_index + board_state[row_index] == determining_row_index + determining_value:\n",
    "                continue\n",
    "            if row_index - board_state[row_index] == determining_row_index - determining_value:\n",
    "                continue\n",
    "\n",
    "            fitness_score += 1\n",
    "\n",
    "    return fitness_score / 2\n",
    "\n",
    "\n",
    "## test genereate fitness score\n",
    "generate_fitness_score([7,1,4,2,0,6,3,5], number_of_queens=8) == 28"
   ]
  },
  {
   "cell_type": "code",
   "execution_count": 3,
   "metadata": {
    "collapsed": false,
    "pycharm": {
     "name": "#%%\n"
    }
   },
   "outputs": [
    {
     "data": {
      "text/plain": [
       "[([1], [4]), ([3], [1]), ([2], [4]), ([4], [2])]"
      ]
     },
     "execution_count": 3,
     "metadata": {},
     "output_type": "execute_result"
    }
   ],
   "source": [
    "def _random_weighted_choice(population, weights, selected=None):\n",
    "    \"\"\"pick one from list proportional to weights\"\"\"\n",
    "\n",
    "    if selected is not None:\n",
    "        index = population.index(selected)\n",
    "        population = population[:index] + population[index+1:]\n",
    "        weights = weights[:index] + weights[index+1:]\n",
    "\n",
    "    return random.choices(population, weights=weights, k=1)[0]\n",
    "\n",
    "\n",
    "def selection(boards, fitness_scores, size_of_population):\n",
    "    \"\"\"return a list of selected pairs\"\"\"\n",
    "    # create weights\n",
    "\n",
    "    selected = []\n",
    "    for _ in range(size_of_population):\n",
    "        parent_one = _random_weighted_choice(boards, fitness_scores)\n",
    "        parent_two = _random_weighted_choice(boards, fitness_scores, selected=parent_one)\n",
    "\n",
    "        selected.append((parent_one, parent_two))\n",
    "\n",
    "    return selected\n",
    "\n",
    "\n",
    "\n",
    "test_population = [[1],[2],]\n",
    "weights = [1,1]\n",
    "\n",
    "selection(test_population, weights, size_of_population=2)\n",
    "\n",
    "test_population = [[1],[2],[3],[4]]\n",
    "weights = [19,20,26,16]\n",
    "\n",
    "selection(test_population, weights, size_of_population=4)\n"
   ]
  },
  {
   "cell_type": "code",
   "execution_count": 4,
   "metadata": {
    "collapsed": false,
    "pycharm": {
     "name": "#%%\n"
    }
   },
   "outputs": [
    {
     "data": {
      "text/plain": [
       "[[1, 1, 1, 1, 1, 1, 0, 0]]"
      ]
     },
     "execution_count": 4,
     "metadata": {},
     "output_type": "execute_result"
    }
   ],
   "source": [
    "\n",
    "def _crssover(parent_one, parent_two, cross_over_index):\n",
    "    return parent_one[:cross_over_index] + parent_two[cross_over_index:]\n",
    "\n",
    "def crossover(selected_pairs, number_of_queens):\n",
    "\n",
    "    children = []\n",
    "    for s_p in selected_pairs:\n",
    "        # generate random cross over points - 0 - max number of queens\n",
    "        cross_over_index = random.randint(0, number_of_queens - 1)\n",
    "        parent_one = s_p[0]\n",
    "        parent_two = s_p[1]   \n",
    "\n",
    "        child = _crssover(parent_one, parent_two, cross_over_index)\n",
    "        children.append(child)\n",
    "\n",
    "    return children\n",
    "\n",
    "\n",
    "crossover([([1,1,1,1,1,1,1,1], [0,0,0,0,0,0,0,0])], number_of_queens=8)"
   ]
  },
  {
   "cell_type": "code",
   "execution_count": 59,
   "metadata": {},
   "outputs": [
    {
     "data": {
      "text/plain": [
       "[[1, 2, 3]]"
      ]
     },
     "execution_count": 59,
     "metadata": {},
     "output_type": "execute_result"
    }
   ],
   "source": [
    "def _mutate(board, number_of_queens):\n",
    "    mutation_point = random.randint(0, number_of_queens - 1)\n",
    "    # TODO this could possibly be the same value\n",
    "\n",
    "    current_value = board[mutation_point]\n",
    "    new_value = current_value\n",
    "\n",
    "    while new_value == current_value:\n",
    "        new_value = random.randint(0, number_of_queens - 1)\n",
    "\n",
    "    board[mutation_point] = new_value\n",
    "\n",
    "    return board\n",
    "\n",
    "\n",
    "def mutation(boards, mutation_frequency, number_of_queens):        \n",
    "    for i,board in enumerate(boards):\n",
    "        x = random.randint(1, mutation_frequency)\n",
    "        if x == 1:\n",
    "            boards[i] = _mutate(board, number_of_queens)\n",
    "    return boards\n",
    "\n",
    "\n",
    "_mutate([1,2,3], 3)\n",
    "mutation([[1,2,3]], 3, 3)"
   ]
  },
  {
   "cell_type": "code",
   "execution_count": 60,
   "metadata": {
    "collapsed": false,
    "pycharm": {
     "name": "#%%\n"
    }
   },
   "outputs": [],
   "source": [
    "def genetic_algorithm(population, size_of_population, number_of_queens, mutation_frequency):\n",
    "    # b) fitness function\n",
    "    # a fitness score is calculated based off the number of non attacking queen pairs\n",
    "    fit_scores = [generate_fitness_score(board, number_of_queens) for board in population]\n",
    "\n",
    "    # fitness scores\n",
    "\n",
    "    # c) select parents\n",
    "    # two parents are selected at random - in accordance with probability from score in b)\n",
    "    # a cross over point is chosen at random from positions in the string\n",
    "    selected_pairs = selection(population, fit_scores, size_of_population)\n",
    "    \n",
    "    # d) cross over\n",
    "    # offspring are created by crossing over parent strings at the crossover point\n",
    "    # crossover(selected_pairs,number_of_queens)\n",
    "    children = crossover(selected_pairs, number_of_queens)\n",
    "\n",
    "    mutated = mutation(children, mutation_frequency, number_of_queens)\n",
    "\n",
    "    return mutated, fit_scores\n",
    "\n",
    "    # e) mutation\n",
    "        # each location is subject to random mutation with a small independent probability\n",
    "        # this involves choosing a queen at random and moving it to a random square in its column\n",
    "\n",
    "    # f) TODO is this a thing?????\n",
    "    # introduce previous top scoring offspring to keep fitness ??? is this part of original algo?? or an optimisation????\n"
   ]
  },
  {
   "cell_type": "code",
   "execution_count": 62,
   "metadata": {},
   "outputs": [
    {
     "data": {
      "text/plain": [
       "[[6, 7, 2, 2, 1, 4, 2, 7],\n",
       " [1, 0, 6, 3, 6, 4, 0, 0],\n",
       " [3, 0, 3, 6, 2, 6, 5, 0],\n",
       " [6, 6, 3, 2, 6, 1, 1, 5],\n",
       " [7, 2, 5, 4, 1, 7, 3, 7],\n",
       " [3, 1, 7, 6, 3, 5, 7, 4],\n",
       " [7, 4, 0, 6, 2, 4, 4, 7],\n",
       " [3, 1, 7, 3, 2, 4, 7, 4],\n",
       " [3, 0, 3, 6, 2, 6, 6, 0],\n",
       " [0, 7, 7, 4, 2, 4, 7, 4],\n",
       " [6, 5, 4, 1, 1, 4, 2, 7],\n",
       " [6, 7, 3, 7, 4, 4, 6, 0],\n",
       " [1, 6, 7, 4, 3, 3, 2, 5],\n",
       " [4, 1, 7, 4, 1, 7, 3, 7],\n",
       " [4, 1, 0, 3, 0, 4, 2, 5],\n",
       " [0, 3, 3, 4, 1, 7, 3, 7],\n",
       " [1, 6, 7, 4, 1, 7, 3, 7],\n",
       " [7, 4, 0, 6, 2, 6, 6, 0],\n",
       " [0, 3, 3, 6, 0, 3, 1, 0]]"
      ]
     },
     "execution_count": 62,
     "metadata": {},
     "output_type": "execute_result"
    }
   ],
   "source": [
    "test_population = [[7, 6, 3, 2, 6, 1, 1, 5],\n",
    " [3, 0, 3, 6, 2, 6, 6, 0],\n",
    " [5, 4, 1, 6, 1, 3, 7, 1],\n",
    " [7, 7, 2, 2, 1, 4, 2, 7],\n",
    " [0, 3, 3, 4, 6, 0, 5, 7],\n",
    " [7, 2, 5, 5, 1, 7, 5, 0],\n",
    " [6, 5, 4, 1, 0, 5, 6, 4],\n",
    " [6, 7, 3, 7, 4, 4, 6, 4],\n",
    " [7, 2, 7, 0, 4, 2, 1, 3],\n",
    " [1, 6, 7, 4, 1, 7, 3, 7],\n",
    " [7, 4, 0, 6, 2, 4, 4, 7],\n",
    " [0, 5, 6, 3, 6, 4, 0, 0],\n",
    " [4, 1, 0, 3, 0, 4, 3, 1],\n",
    " [1, 0, 6, 3, 5, 1, 5, 4],\n",
    " [2, 6, 7, 3, 2, 4, 7, 4],\n",
    " [7, 5, 7, 2, 2, 0, 0, 0],\n",
    " [0, 3, 3, 6, 0, 3, 1, 2],\n",
    " [0, 7, 7, 4, 3, 3, 2, 5],\n",
    " [3, 1, 7, 6, 3, 5, 6, 0]]\n",
    "\n",
    "NUMBER_OF_QUEENS=8\n",
    "SIZE_OF_POPULATION=19\n",
    "MUTATION_FREQUENCY = 100\n",
    "\n",
    "# a) generate initial population\n",
    "population = test_population\n",
    "## TODO - how is this calculated??\n",
    "perfect_score = special.comb(NUMBER_OF_QUEENS, 2)\n",
    "completed_board = check_for_completed_board(population, NUMBER_OF_QUEENS, perfect_score)\n",
    "new_population, fitness_scores = genetic_algorithm(population, SIZE_OF_POPULATION, NUMBER_OF_QUEENS, MUTATION_FREQUENCY)\n",
    "population = new_population\n",
    "\n",
    "population"
   ]
  },
  {
   "cell_type": "code",
   "execution_count": 78,
   "metadata": {},
   "outputs": [],
   "source": [
    "NUMBER_OF_QUEENS=8\n",
    "SIZE_OF_POPULATION=19\n",
    "MUTATION_FREQUENCY = 20\n",
    "\n",
    "# a) generate initial population\n",
    "population = generate_population(NUMBER_OF_QUEENS, SIZE_OF_POPULATION)\n",
    "perfect_score = special.comb(NUMBER_OF_QUEENS, 2)"
   ]
  },
  {
   "cell_type": "code",
   "execution_count": 79,
   "metadata": {
    "collapsed": false,
    "pycharm": {
     "name": "#%%\n"
    }
   },
   "outputs": [
    {
     "name": "stdout",
     "output_type": "stream",
     "text": [
      "run for 1 generations\n",
      "[[3, 7, 2, 0, 2, 6, 3, 7], [5, 0, 0, 7, 2, 5, 1, 6], [7, 0, 4, 2, 2, 5, 1, 6], [5, 0, 0, 7, 2, 1, 7, 6], [3, 6, 2, 0, 0, 1, 7, 7], [7, 6, 0, 0, 3, 2, 1, 2], [0, 5, 0, 5, 0, 3, 2, 1], [3, 7, 3, 0, 2, 5, 6, 0], [4, 0, 3, 2, 0, 1, 2, 0], [7, 0, 4, 2, 2, 3, 5, 4], [2, 3, 6, 7, 1, 7, 3, 7], [3, 5, 1, 0, 3, 2, 1, 2], [5, 0, 1, 0, 5, 5, 2, 0], [2, 3, 0, 5, 0, 3, 2, 0], [3, 3, 0, 0, 4, 0, 6, 7], [5, 6, 0, 6, 4, 2, 6, 0], [7, 6, 0, 1, 3, 3, 6, 0], [3, 3, 0, 0, 4, 0, 2, 0], [2, 3, 6, 7, 1, 7, 1, 2]]\n",
      "[20.0, 23.0, 19.0, 17.0, 21.0, 19.0, 22.0, 20.0, 23.0, 20.0, 18.0, 21.0, 22.0, 14.0, 22.0, 18.0, 16.0, 21.0, 20.0]\n",
      "run for 1000 generations\n",
      "[[1, 7, 0, 3, 3, 5, 0, 5], [5, 7, 0, 3, 3, 5, 1, 6], [5, 7, 0, 3, 3, 5, 0, 4], [1, 7, 0, 3, 3, 5, 1, 4], [1, 7, 0, 3, 3, 5, 0, 4], [1, 7, 0, 3, 3, 5, 0, 4], [5, 7, 0, 3, 3, 5, 0, 4], [1, 7, 0, 3, 3, 5, 0, 4], [7, 7, 0, 3, 3, 5, 0, 4], [5, 7, 0, 3, 3, 5, 1, 4], [5, 7, 0, 3, 3, 5, 1, 6], [5, 7, 7, 3, 3, 5, 0, 4], [1, 7, 0, 3, 3, 5, 0, 4], [1, 7, 0, 3, 3, 5, 1, 6], [5, 7, 0, 3, 3, 5, 0, 4], [1, 7, 0, 3, 3, 5, 1, 6], [5, 7, 0, 3, 3, 5, 0, 4], [1, 7, 0, 3, 7, 5, 0, 4], [5, 7, 0, 3, 3, 5, 1, 6]]\n",
      "[23.0, 24.0, 23.0, 23.0, 22.0, 22.0, 23.0, 24.0, 24.0, 23.0, 24.0, 23.0, 23.0, 24.0, 25.0, 24.0, 24.0, 23.0, 22.0]\n",
      "run for 2000 generations\n",
      "[[0, 7, 1, 6, 6, 2, 7, 4], [0, 5, 3, 6, 6, 2, 7, 4], [0, 5, 3, 6, 6, 2, 7, 4], [0, 5, 1, 6, 6, 2, 7, 4], [0, 5, 3, 6, 6, 2, 7, 4], [0, 5, 3, 6, 6, 2, 7, 4], [0, 6, 1, 6, 6, 2, 7, 4], [0, 7, 1, 6, 6, 2, 7, 4], [0, 5, 1, 6, 6, 2, 7, 4], [0, 5, 1, 6, 6, 2, 7, 4], [0, 7, 1, 6, 6, 2, 7, 4], [0, 5, 3, 6, 6, 2, 7, 4], [0, 5, 1, 6, 6, 2, 7, 4], [0, 5, 3, 6, 6, 2, 7, 4], [0, 5, 3, 6, 6, 2, 7, 4], [0, 5, 3, 6, 6, 2, 7, 4], [0, 5, 1, 6, 6, 2, 7, 4], [0, 5, 3, 6, 6, 2, 7, 4], [0, 5, 3, 6, 6, 2, 7, 4]]\n",
      "[23.0, 26.0, 25.0, 25.0, 26.0, 26.0, 23.0, 25.0, 25.0, 25.0, 25.0, 25.0, 25.0, 25.0, 25.0, 26.0, 26.0, 25.0, 25.0]\n",
      "solved in 2139 generations\n",
      "completed board: [2, 5, 1, 6, 0, 3, 7, 4]\n"
     ]
    }
   ],
   "source": [
    "gen = 0\n",
    "completed_board = []\n",
    "\n",
    "# # g) check if it has found correct state and exit loop\n",
    "while not completed_board:\n",
    "    population, fitness_scores = genetic_algorithm(population, SIZE_OF_POPULATION, NUMBER_OF_QUEENS, MUTATION_FREQUENCY)\n",
    "    completed_board = check_for_completed_board(population, NUMBER_OF_QUEENS, perfect_score)\n",
    "    gen += 1\n",
    "\n",
    "    if gen == 10000:\n",
    "        break\n",
    "    if gen==1 or gen % 1000 == 0:\n",
    "        print(f\"run for {gen} generations\")\n",
    "        print(population)\n",
    "        print(fitness_scores)\n",
    "\n",
    "print(f\"solved in {gen} generations\")\n",
    "print(f\"completed board: {completed_board}\")"
   ]
  },
  {
   "cell_type": "code",
   "execution_count": null,
   "metadata": {},
   "outputs": [],
   "source": []
  }
 ],
 "metadata": {
  "kernelspec": {
   "display_name": "Python 3",
   "language": "python",
   "name": "python3"
  },
  "language_info": {
   "codemirror_mode": {
    "name": "ipython",
    "version": 3
   },
   "file_extension": ".py",
   "mimetype": "text/x-python",
   "name": "python",
   "nbconvert_exporter": "python",
   "pygments_lexer": "ipython3",
   "version": "3.9.5"
  }
 },
 "nbformat": 4,
 "nbformat_minor": 0
}
