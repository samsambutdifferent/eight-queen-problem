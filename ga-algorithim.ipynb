{
 "cells": [
  {
   "cell_type": "markdown",
   "metadata": {
    "collapsed": true,
    "pycharm": {
     "name": "#%% md\n"
    }
   },
   "source": [
    "# Eight Queens Genetic Algorithim"
   ]
  },
  {
   "cell_type": "code",
   "execution_count": null,
   "metadata": {
    "collapsed": false,
    "pycharm": {
     "name": "#%%\n"
    }
   },
   "outputs": [],
   "source": [
    "import random\n",
    "\n",
    "from scipy import special\n",
    "\n",
    "def generate_board_state(number_of_queens):\n",
    "    return [random.randrange(number_of_queens) for num in range(number_of_queens )]\n",
    "\n",
    "def generate_population(number_of_queens=8, size_of_population=19):\n",
    "        return [generate_board_state(number_of_queens) for _ in range(size_of_population)]\n",
    "\n",
    "def check_for_completed_board(boards, number_of_queens, perfect_score):\n",
    "    for board in boards:\n",
    "        if generate_fitness_score(board, number_of_queens) == perfect_score:\n",
    "            return board\n",
    "\n",
    "    return []\n"
   ]
  },
  {
   "cell_type": "code",
   "execution_count": null,
   "metadata": {
    "collapsed": false,
    "pycharm": {
     "name": "#%%\n"
    }
   },
   "outputs": [],
   "source": [
    "def generate_fitness_score(board_state, number_of_queens):\n",
    "    \"\"\"determine number of queens not being attacked\n",
    "        :input board_state array of queens\n",
    "    \"\"\"\n",
    "    fitness_score = 0\n",
    "\n",
    "    for determining_row_index in range(number_of_queens):\n",
    "        determining_value = board_state[determining_row_index]\n",
    "        for row_index in range(number_of_queens):\n",
    "            # can't attack itself\n",
    "            if determining_row_index == row_index:\n",
    "                continue\n",
    "            if board_state[row_index] == determining_value:\n",
    "                continue\n",
    "            if row_index + board_state[row_index] == determining_row_index + determining_value:\n",
    "                continue\n",
    "            if row_index - board_state[row_index] == determining_row_index - determining_value:\n",
    "                continue\n",
    "\n",
    "            fitness_score += 1\n",
    "\n",
    "    return fitness_score / 2\n",
    "\n",
    "\n",
    "## test genereate fitness score\n",
    "generate_fitness_score([7,1,4,2,0,6,3,5], number_of_queens=8) == 28"
   ]
  },
  {
   "cell_type": "code",
   "execution_count": null,
   "metadata": {
    "collapsed": false,
    "pycharm": {
     "name": "#%%\n"
    }
   },
   "outputs": [],
   "source": [
    "def _random_weighted_choice(population, weights, selected=None):\n",
    "    \"\"\"pick one from list proportional to weights\"\"\"\n",
    "\n",
    "    if selected is not None:\n",
    "        index = population.index(selected)\n",
    "        population = population[:index] + population[index+1:]\n",
    "        weights = weights[:index] + weights[index+1:]\n",
    "\n",
    "    return random.choices(population, weights=weights, k=1)[0]\n",
    "\n",
    "\n",
    "def selection(boards, fitness_scores, size_of_population):\n",
    "    \"\"\"return a list of selected pairs\"\"\"\n",
    "    # create weights\n",
    "\n",
    "    selected = []\n",
    "    for _ in range(size_of_population):\n",
    "        parent_one = _random_weighted_choice(boards, fitness_scores)\n",
    "        parent_two = _random_weighted_choice(boards, fitness_scores, selected=parent_one)\n",
    "\n",
    "        selected.append((parent_one, parent_two))\n",
    "\n",
    "    return selected\n",
    "\n",
    "test_population = [[1],[2],]\n",
    "weights = [1,1]\n",
    "\n",
    "selection(test_population, weights, size_of_population=2)\n",
    "\n",
    "test_population = [[1],[2],[3],[4]]\n",
    "weights = [19,20,26,16]\n",
    "\n",
    "selection(test_population, weights, size_of_population=4)\n"
   ]
  },
  {
   "cell_type": "code",
   "execution_count": null,
   "metadata": {
    "collapsed": false,
    "pycharm": {
     "name": "#%%\n"
    }
   },
   "outputs": [],
   "source": [
    "\n",
    "def _crssover(parent_one, parent_two, cross_over_index):\n",
    "    return parent_one[:cross_over_index] + parent_two[cross_over_index:]\n",
    "\n",
    "def crossover(selected_pairs, number_of_queens):\n",
    "\n",
    "    children = []\n",
    "    for s_p in selected_pairs:\n",
    "        # generate random cross over points - 0 - max number of queens\n",
    "        cross_over_index = random.randint(0, number_of_queens - 1)\n",
    "        parent_one = s_p[0]\n",
    "        parent_two = s_p[1]   \n",
    "\n",
    "        child = _crssover(parent_one, parent_two, cross_over_index)\n",
    "        children.append(child)\n",
    "\n",
    "    return children\n",
    "\n",
    "\n",
    "crossover([([1,1,1,1,1,1,1,1], [0,0,0,0,0,0,0,0])], number_of_queens=8)"
   ]
  },
  {
   "cell_type": "code",
   "execution_count": null,
   "metadata": {},
   "outputs": [],
   "source": [
    "def _mutate(board, number_of_queens):\n",
    "    mutation_point = random.randint(0, number_of_queens - 1)\n",
    "    # TODO this could possibly be the same value\n",
    "\n",
    "    current_value = board[mutation_point]\n",
    "    new_value = current_value\n",
    "\n",
    "    while new_value == current_value:\n",
    "        new_value = random.randint(0, number_of_queens - 1)\n",
    "\n",
    "    board[mutation_point] = new_value\n",
    "\n",
    "    return board\n",
    "\n",
    "\n",
    "def mutation(boards, mutation_frequency, number_of_queens):        \n",
    "    for i,board in enumerate(boards):\n",
    "        x = random.randint(1, mutation_frequency)\n",
    "        if x == 1:\n",
    "            boards[i] = _mutate(board, number_of_queens)\n",
    "    return boards\n",
    "\n",
    "\n",
    "_mutate([1,2,3], 3)\n",
    "mutation([[1,2,3]], 3, 3)"
   ]
  },
  {
   "cell_type": "code",
   "execution_count": null,
   "metadata": {
    "collapsed": false,
    "pycharm": {
     "name": "#%%\n"
    }
   },
   "outputs": [],
   "source": [
    "def generation(population, size_of_population, number_of_queens, mutation_frequency):\n",
    "    # b) fitness function\n",
    "    # a fitness score is calculated based off the number of non attacking queen pairs\n",
    "    fit_scores = [generate_fitness_score(board, number_of_queens) for board in population]\n",
    "\n",
    "    # fitness scores\n",
    "\n",
    "    # c) select parents\n",
    "    # two parents are selected at random - in accordance with probability from score in b)\n",
    "    # a cross over point is chosen at random from positions in the string\n",
    "    selected_pairs = selection(population, fit_scores, size_of_population)\n",
    "    \n",
    "    # d) cross over\n",
    "    # offspring are created by crossing over parent strings at the crossover point\n",
    "    # crossover(selected_pairs,number_of_queens)\n",
    "    children = crossover(selected_pairs, number_of_queens)\n",
    "\n",
    "\n",
    "    # e) mutation\n",
    "        # each location is subject to random mutation with a small independent probability\n",
    "        # this involves choosing a queen at random and moving it to a random square in its column\n",
    "    mutated = mutation(children, mutation_frequency, number_of_queens)\n",
    "\n",
    "    return mutated, fit_scores\n",
    "\n",
    "    # f) TODO is this a thing?????\n",
    "    # introduce previous top scoring offspring to keep fitness ??? is this part of original algo?? or an optimisation????\n"
   ]
  },
  {
   "cell_type": "code",
   "execution_count": null,
   "metadata": {
    "collapsed": false,
    "pycharm": {
     "name": "#%%\n"
    }
   },
   "outputs": [],
   "source": [
    "import timeit\n",
    "\n",
    "NUMBER_OF_QUEENS=8\n",
    "SIZE_OF_POPULATION=19\n",
    "MUTATION_FREQUENCY = 15\n",
    "# TODO HOW IS THIS CALCULATED\n",
    "perfect_score = special.comb(NUMBER_OF_QUEENS, 2)\n",
    "\n",
    "\n",
    "def genetic_algorithm(population):\n",
    "\n",
    "    start_time = timeit.default_timer()\n",
    "\n",
    "    gen = 0\n",
    "    completed_board = []\n",
    "\n",
    "    # # g) check if it has found correct state and exit loop\n",
    "    while not completed_board:\n",
    "        population, fitness_scores = generation(population, SIZE_OF_POPULATION, NUMBER_OF_QUEENS, MUTATION_FREQUENCY)\n",
    "        completed_board = check_for_completed_board(population, NUMBER_OF_QUEENS, perfect_score)\n",
    "        gen += 1\n",
    "\n",
    "        if gen == 30000:\n",
    "            break\n",
    "        # if gen % 1000 == 0:\n",
    "        #     print(f\"run for {gen} generations\")\n",
    "\n",
    "    stop_time = timeit.default_timer()\n",
    "\n",
    "    print(f\"elapsed_time: {stop_time - start_time}\")\n",
    "    print(f\"number_of_generations: {gen}\")\n",
    "    print(f\"completed_state: {completed_board}\")\n",
    "    print(\"=========================\")\n",
    "\n",
    "    return {\n",
    "        \"elapsed_time\": stop_time - start_time,\n",
    "        \"number_of_generations\": gen,\n",
    "        \"completed_state\": completed_board\n",
    "    }\n",
    "\n",
    "# a) generate initial population\n",
    "population = generate_population(NUMBER_OF_QUEENS, SIZE_OF_POPULATION)\n",
    "\n",
    "ga_result = genetic_algorithm(population)\n",
    "\n",
    "ga_result"
   ]
  },
  {
   "cell_type": "code",
   "execution_count": null,
   "metadata": {},
   "outputs": [],
   "source": [
    "## only need to do this once\n",
    "\n",
    "# import pickle\n",
    "\n",
    "# NUMBER_OF_QUEENS=8\n",
    "# SIZE_OF_POPULATION=19\n",
    "# MUTATION_FREQUENCY = 15\n",
    "# # TODO HOW IS THIS CALCULATED\n",
    "# perfect_score = special.comb(NUMBER_OF_QUEENS, 2)\n",
    "\n",
    "\n",
    "# # generate test populations\n",
    "\n",
    "# test_population = []\n",
    "\n",
    "# for i in range(100):\n",
    "#         test_population.append( generate_population(NUMBER_OF_QUEENS, SIZE_OF_POPULATION))\n",
    "\n",
    "# with open('test_populations', 'wb') as f:\n",
    "#         pickle.dump(test_population, f)"
   ]
  },
  {
   "cell_type": "code",
   "execution_count": null,
   "metadata": {},
   "outputs": [],
   "source": [
    "import pickle\n",
    "\n",
    "with open('test_populations', 'rb') as f:\n",
    "    test_population = pickle.load(f)\n"
   ]
  },
  {
   "cell_type": "code",
   "execution_count": null,
   "metadata": {},
   "outputs": [],
   "source": [
    "\n",
    "# file = open(\"test_populations\",'rb')\n",
    "# object_file = pickle.load(file)\n",
    "\n",
    "# results = {\n",
    "#         \"elapsed_time\": [],\n",
    "#         \"number_of_generations\": [],\n",
    "#         \"completed_state\": []\n",
    "# }\n",
    "\n",
    "# for pop in test_population:\n",
    "\n",
    "#         ga_result = genetic_algorithm(population)\n",
    "\n",
    "#         results[\"elapsed_time\"].append(ga_result[\"elapsed_time\"])\n",
    "#         results[\"number_of_generations\"].append(ga_result[\"number_of_generations\"])\n",
    "#         results[\"completed_state\"].append(ga_result[\"completed_state\"])\n",
    "\n",
    "\n",
    "# results"
   ]
  },
  {
   "cell_type": "code",
   "execution_count": null,
   "metadata": {},
   "outputs": [],
   "source": [
    "import pandas as pd\n",
    "\n",
    "results_df = pd.DataFrame(results)\n",
    "\n",
    "mean_number_of_generations = results_df[\"number_of_generations\"].mean()\n",
    "mean_elapsed_time = results_df[\"elapsed_time\"].mean()\n",
    "\n",
    "std_number_of_generations = results_df[\"number_of_generations\"].std()\n",
    "std_elapsed_time = results_df[\"elapsed_time\"].std()\n",
    "\n",
    "\n",
    "print(results_df)\n",
    "\n",
    "print(f\"mean_number_of_generations: {mean_number_of_generations}\")\n",
    "print(f\"std_number_of_generations: {std_number_of_generations}\")\n",
    "print(f\"mean_elapsed_time: {mean_elapsed_time}\")\n",
    "print(f\"std_elapsed_time: {std_elapsed_time}\")"
   ]
  },
  {
   "cell_type": "code",
   "execution_count": null,
   "metadata": {},
   "outputs": [],
   "source": [
    "# some didnt finish\n",
    "results_df[results_df[\"elapsed_time\"] > 50]"
   ]
  },
  {
   "cell_type": "code",
   "execution_count": null,
   "metadata": {},
   "outputs": [],
   "source": [
    "\n",
    "import math\n",
    "\n",
    "def round_down_to_1000(x):\n",
    "    return round(x, -3) \n",
    "\n",
    "\n",
    "floored_elapsed_time = results_df[\"elapsed_time\"].apply(math.floor)\n",
    "floored_number_of_generations = results_df[\"number_of_generations\"].apply(round_down_to_1000)"
   ]
  },
  {
   "cell_type": "code",
   "execution_count": null,
   "metadata": {},
   "outputs": [],
   "source": [
    "frame = { 'elapsed_time': floored_elapsed_time, 'number_of_generations': floored_number_of_generations }\n",
    "\n",
    "floored_results_df = pd.DataFrame(frame)"
   ]
  },
  {
   "cell_type": "code",
   "execution_count": null,
   "metadata": {},
   "outputs": [],
   "source": [
    "import seaborn as sns\n",
    "import matplotlib.pyplot as plt\n",
    "\n",
    "plt.figure(figsize=(12,6))\n",
    "\n",
    "fig = sns.barplot(x=floored_results_df.elapsed_time.value_counts().index, y=floored_results_df.elapsed_time.value_counts())\n",
    "\n",
    "plt.xlabel(\"elapsed time\")\n",
    "plt.ylabel(\"counts\")\n",
    "plt.title(\"Counts of elapsed times\")\n",
    "plt.savefig('results/counts_of_elapsed_time.png')\n",
    "plt.show(fig)"
   ]
  },
  {
   "cell_type": "code",
   "execution_count": null,
   "metadata": {},
   "outputs": [],
   "source": [
    "\n",
    "plt.figure(figsize=(12,6))\n",
    "\n",
    "fig = sns.barplot(x=floored_results_df.number_of_generations.value_counts().index, y=floored_results_df.number_of_generations.value_counts())\n",
    "\n",
    "plt.xlabel(\"generations\")\n",
    "plt.ylabel(\"counts\")\n",
    "plt.title(\"Counts of Generations\")\n",
    "plt.savefig('results/counts_of_generations.png')\n",
    "plt.show(fig)"
   ]
  },
  {
   "cell_type": "code",
   "execution_count": null,
   "metadata": {},
   "outputs": [],
   "source": []
  }
 ],
 "metadata": {
  "kernelspec": {
   "display_name": "Python 3",
   "language": "python",
   "name": "python3"
  },
  "language_info": {
   "codemirror_mode": {
    "name": "ipython",
    "version": 3
   },
   "file_extension": ".py",
   "mimetype": "text/x-python",
   "name": "python",
   "nbconvert_exporter": "python",
   "pygments_lexer": "ipython3",
   "version": "3.9.5"
  }
 },
 "nbformat": 4,
 "nbformat_minor": 0
}
